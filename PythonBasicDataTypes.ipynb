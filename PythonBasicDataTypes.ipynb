{
  "nbformat": 4,
  "nbformat_minor": 0,
  "metadata": {
    "colab": {
      "name": "PythonBasicDataTypes.ipynb",
      "provenance": [],
      "collapsed_sections": [
        "86a0tMdWecvi",
        "GPB8jslQerP2",
        "izFrdwzRI5Eu",
        "owXSCzuUTrTj",
        "ssRGX_TVWIFc",
        "ohsI0JKFYAZ-"
      ],
      "toc_visible": true,
      "authorship_tag": "ABX9TyMlmrLOTsITTV3zI6jRQwOE",
      "include_colab_link": true
    },
    "kernelspec": {
      "name": "python3",
      "display_name": "Python 3"
    }
  },
  "cells": [
    {
      "cell_type": "markdown",
      "metadata": {
        "id": "view-in-github",
        "colab_type": "text"
      },
      "source": [
        "<a href=\"https://colab.research.google.com/github/Debdeep-Goswami/Python3/blob/main/PythonBasicDataTypes.ipynb\" target=\"_parent\"><img src=\"https://colab.research.google.com/assets/colab-badge.svg\" alt=\"Open In Colab\"/></a>"
      ]
    },
    {
      "cell_type": "markdown",
      "metadata": {
        "id": "86a0tMdWecvi"
      },
      "source": [
        "#Simple data types and operators"
      ]
    },
    {
      "cell_type": "code",
      "metadata": {
        "id": "juF1w-jK23Z3"
      },
      "source": [
        "name='iphone 5s'"
      ],
      "execution_count": null,
      "outputs": []
    },
    {
      "cell_type": "code",
      "metadata": {
        "colab": {
          "base_uri": "https://localhost:8080/"
        },
        "id": "iJW3hai63TOf",
        "outputId": "fcf5d392-8d6e-436d-807b-bd3869ea42e2"
      },
      "source": [
        "type(name)"
      ],
      "execution_count": null,
      "outputs": [
        {
          "output_type": "execute_result",
          "data": {
            "text/plain": [
              "str"
            ]
          },
          "metadata": {
            "tags": []
          },
          "execution_count": 2
        }
      ]
    },
    {
      "cell_type": "code",
      "metadata": {
        "colab": {
          "base_uri": "https://localhost:8080/"
        },
        "id": "FSg2udwL3Znr",
        "outputId": "ef3e0e13-d35c-4147-d144-fb6a1edae329"
      },
      "source": [
        "print(name)"
      ],
      "execution_count": null,
      "outputs": [
        {
          "output_type": "stream",
          "text": [
            "iphone 5s\n"
          ],
          "name": "stdout"
        }
      ]
    },
    {
      "cell_type": "code",
      "metadata": {
        "colab": {
          "base_uri": "https://localhost:8080/"
        },
        "id": "8tyn3xqH3gAS",
        "outputId": "94972498-5a03-4099-8997-351327a9def9"
      },
      "source": [
        "screen_size=4.3\n",
        "type(screen_size)"
      ],
      "execution_count": null,
      "outputs": [
        {
          "output_type": "execute_result",
          "data": {
            "text/plain": [
              "float"
            ]
          },
          "metadata": {
            "tags": []
          },
          "execution_count": 3
        }
      ]
    },
    {
      "cell_type": "code",
      "metadata": {
        "colab": {
          "base_uri": "https://localhost:8080/"
        },
        "id": "pZIP4TsU3xZZ",
        "outputId": "ac49c52d-db55-4dc0-f3b0-3ebf088d5696"
      },
      "source": [
        "number_of_speakers = 1\n",
        "type(number_of_speakers)"
      ],
      "execution_count": null,
      "outputs": [
        {
          "output_type": "execute_result",
          "data": {
            "text/plain": [
              "int"
            ]
          },
          "metadata": {
            "tags": []
          },
          "execution_count": 5
        }
      ]
    },
    {
      "cell_type": "code",
      "metadata": {
        "colab": {
          "base_uri": "https://localhost:8080/"
        },
        "id": "wb9wEBzY4z6p",
        "outputId": "a36e7a0b-b819-4528-d315-f3ffdf05cddd"
      },
      "source": [
        "print('I just bought an '+name)"
      ],
      "execution_count": null,
      "outputs": [
        {
          "output_type": "stream",
          "text": [
            "I just bought an iphone 5s\n"
          ],
          "name": "stdout"
        }
      ]
    },
    {
      "cell_type": "code",
      "metadata": {
        "colab": {
          "base_uri": "https://localhost:8080/"
        },
        "id": "-DynUU0x49lz",
        "outputId": "435496a2-7309-4bbc-8d5f-77811943fa4d"
      },
      "source": [
        "a=3\n",
        "b=2\n",
        "print(a*b,a/b,a+b,a-b,a//b,a**b)"
      ],
      "execution_count": null,
      "outputs": [
        {
          "output_type": "stream",
          "text": [
            "6 1.5 5 1 1 9\n"
          ],
          "name": "stdout"
        }
      ]
    },
    {
      "cell_type": "code",
      "metadata": {
        "colab": {
          "base_uri": "https://localhost:8080/"
        },
        "id": "dqSbL0DD5Mb8",
        "outputId": "e303c793-d2a4-4a89-f601-803e922b0276"
      },
      "source": [
        "is_android=False\n",
        "type(is_android)"
      ],
      "execution_count": null,
      "outputs": [
        {
          "output_type": "execute_result",
          "data": {
            "text/plain": [
              "bool"
            ]
          },
          "metadata": {
            "tags": []
          },
          "execution_count": 5
        }
      ]
    },
    {
      "cell_type": "code",
      "metadata": {
        "colab": {
          "base_uri": "https://localhost:8080/"
        },
        "id": "OKERxReT5a7l",
        "outputId": "f8d42eea-cd25-4f06-8df2-b135093369a6"
      },
      "source": [
        "print(is_android==False, is_android==True)"
      ],
      "execution_count": null,
      "outputs": [
        {
          "output_type": "stream",
          "text": [
            "True False\n"
          ],
          "name": "stdout"
        }
      ]
    },
    {
      "cell_type": "code",
      "metadata": {
        "colab": {
          "base_uri": "https://localhost:8080/"
        },
        "id": "4tjp1rHi5hUk",
        "outputId": "60701f08-6592-4f06-da31-35c9d7e0c931"
      },
      "source": [
        "if is_android==False:\n",
        "  print(name+' doesnot support android.')\n",
        "  print('continue to print inside if block')\n",
        "print(\"Printing out of if block\")"
      ],
      "execution_count": null,
      "outputs": [
        {
          "output_type": "stream",
          "text": [
            "iphone 5s doesnot support android.\n",
            "continue to print inside if block\n",
            "Printing out of if block\n"
          ],
          "name": "stdout"
        }
      ]
    },
    {
      "cell_type": "markdown",
      "metadata": {
        "id": "GPB8jslQerP2"
      },
      "source": [
        "#Loops and Function"
      ]
    },
    {
      "cell_type": "code",
      "metadata": {
        "colab": {
          "base_uri": "https://localhost:8080/"
        },
        "id": "-REDR5eQwN0X",
        "outputId": "fea3d070-8625-41d5-af1e-941b50d3defb"
      },
      "source": [
        "for i in range(5):\n",
        "  print (i,i**2)"
      ],
      "execution_count": null,
      "outputs": [
        {
          "output_type": "stream",
          "text": [
            "0 0\n",
            "1 1\n",
            "2 4\n",
            "3 9\n",
            "4 16\n"
          ],
          "name": "stdout"
        }
      ]
    },
    {
      "cell_type": "code",
      "metadata": {
        "id": "s-jRoysWwldc"
      },
      "source": [
        "range?"
      ],
      "execution_count": null,
      "outputs": []
    },
    {
      "cell_type": "code",
      "metadata": {
        "colab": {
          "base_uri": "https://localhost:8080/"
        },
        "id": "HxtNfA0tw9Wv",
        "outputId": "cb3406f3-e53c-4cbe-8f52-3858c8c787ad"
      },
      "source": [
        "i=0\n",
        "while i<5:\n",
        "  print(i,i**2)\n",
        "  i+=1  # equivalent to i=i+1"
      ],
      "execution_count": null,
      "outputs": [
        {
          "output_type": "stream",
          "text": [
            "0 0\n",
            "1 1\n",
            "2 4\n",
            "3 9\n",
            "4 16\n"
          ],
          "name": "stdout"
        }
      ]
    },
    {
      "cell_type": "code",
      "metadata": {
        "colab": {
          "base_uri": "https://localhost:8080/"
        },
        "id": "6En615VaxCD9",
        "outputId": "cb397d9d-0e42-40ed-fddd-234eccbb832a"
      },
      "source": [
        "def print_squares(stop_val):\n",
        "  for i in range(stop_val):\n",
        "    print(i,i**2)\n",
        "\n",
        "print_squares(10)"
      ],
      "execution_count": null,
      "outputs": [
        {
          "output_type": "stream",
          "text": [
            "0 0\n",
            "1 1\n",
            "2 4\n",
            "3 9\n",
            "4 16\n",
            "5 25\n",
            "6 36\n",
            "7 49\n",
            "8 64\n",
            "9 81\n"
          ],
          "name": "stdout"
        }
      ]
    },
    {
      "cell_type": "code",
      "metadata": {
        "colab": {
          "base_uri": "https://localhost:8080/"
        },
        "id": "7mqDnLwOx4a-",
        "outputId": "afd5db90-a461-4064-9c94-bcf3089aea93"
      },
      "source": [
        "def sum_of_squares(stop_val):\n",
        "  sum=0\n",
        "  for i in range(stop_val):\n",
        "    sum+=i**2\n",
        "  return sum\n",
        "\n",
        "sum_of_squares(10)"
      ],
      "execution_count": null,
      "outputs": [
        {
          "output_type": "execute_result",
          "data": {
            "text/plain": [
              "285"
            ]
          },
          "metadata": {
            "tags": []
          },
          "execution_count": 21
        }
      ]
    },
    {
      "cell_type": "code",
      "metadata": {
        "colab": {
          "base_uri": "https://localhost:8080/"
        },
        "id": "6afNedUlyYUX",
        "outputId": "b007347a-3933-4f6b-edf5-f45d23642c59"
      },
      "source": [
        "print_square(10)\n",
        "sum_of_squares(10)"
      ],
      "execution_count": null,
      "outputs": [
        {
          "output_type": "stream",
          "text": [
            "0 0\n",
            "1 1\n",
            "2 4\n",
            "3 9\n",
            "4 16\n",
            "5 25\n",
            "6 36\n",
            "7 49\n",
            "8 64\n",
            "9 81\n"
          ],
          "name": "stdout"
        },
        {
          "output_type": "execute_result",
          "data": {
            "text/plain": [
              "285"
            ]
          },
          "metadata": {
            "tags": []
          },
          "execution_count": 23
        }
      ]
    },
    {
      "cell_type": "code",
      "metadata": {
        "colab": {
          "base_uri": "https://localhost:8080/"
        },
        "id": "9BKsgZJZyhbY",
        "outputId": "e68d8cba-8c5e-49de-e61f-50c9ae7e44b5"
      },
      "source": [
        "sum=sum_of_squares(10)\n",
        "print('Sum of all squares',sum)"
      ],
      "execution_count": null,
      "outputs": [
        {
          "output_type": "stream",
          "text": [
            "Sum of all squares 285\n"
          ],
          "name": "stdout"
        }
      ]
    },
    {
      "cell_type": "code",
      "metadata": {
        "id": "MuqnatYiypFz"
      },
      "source": [
        "help(range)"
      ],
      "execution_count": null,
      "outputs": []
    },
    {
      "cell_type": "code",
      "metadata": {
        "colab": {
          "base_uri": "https://localhost:8080/"
        },
        "id": "n-kQDks6zT2-",
        "outputId": "5772a390-a10d-4f28-e374-7d183c37e0f4"
      },
      "source": [
        "for i in range(1,10):\n",
        "  print(i,i**2)"
      ],
      "execution_count": null,
      "outputs": [
        {
          "output_type": "stream",
          "text": [
            "1 1\n",
            "2 4\n",
            "3 9\n",
            "4 16\n",
            "5 25\n",
            "6 36\n",
            "7 49\n",
            "8 64\n",
            "9 81\n"
          ],
          "name": "stdout"
        }
      ]
    },
    {
      "cell_type": "code",
      "metadata": {
        "id": "L2x_fPlK0oq8"
      },
      "source": [
        ""
      ],
      "execution_count": null,
      "outputs": []
    },
    {
      "cell_type": "markdown",
      "metadata": {
        "id": "izFrdwzRI5Eu"
      },
      "source": [
        "# Lists\n"
      ]
    },
    {
      "cell_type": "code",
      "metadata": {
        "colab": {
          "base_uri": "https://localhost:8080/"
        },
        "id": "_D80EJnuJA2R",
        "outputId": "a2b372be-948b-4c5a-951d-01a39e623063"
      },
      "source": [
        "my_phone = [name, is_android, screen_size]\n",
        "type(my_phone)"
      ],
      "execution_count": null,
      "outputs": [
        {
          "output_type": "execute_result",
          "data": {
            "text/plain": [
              "list"
            ]
          },
          "metadata": {
            "tags": []
          },
          "execution_count": 6
        }
      ]
    },
    {
      "cell_type": "code",
      "metadata": {
        "colab": {
          "base_uri": "https://localhost:8080/"
        },
        "id": "b37GuOa1Jlns",
        "outputId": "37765e83-5705-44e5-81ff-564c286258a7"
      },
      "source": [
        "print(my_phone)"
      ],
      "execution_count": null,
      "outputs": [
        {
          "output_type": "stream",
          "text": [
            "['iphone 5s', False, 4.3]\n"
          ],
          "name": "stdout"
        }
      ]
    },
    {
      "cell_type": "code",
      "metadata": {
        "colab": {
          "base_uri": "https://localhost:8080/"
        },
        "id": "0I9Y0T6zJo_k",
        "outputId": "b7d3b743-9cfb-4b54-8908-ab911078b635"
      },
      "source": [
        "my_dads_phone=my_phone\n",
        "print(my_dads_phone)"
      ],
      "execution_count": null,
      "outputs": [
        {
          "output_type": "stream",
          "text": [
            "['iphone 5s', False, 4.3]\n"
          ],
          "name": "stdout"
        }
      ]
    },
    {
      "cell_type": "code",
      "metadata": {
        "id": "rDJtUN3nKOdz"
      },
      "source": [
        "my_phone[2]=4"
      ],
      "execution_count": null,
      "outputs": []
    },
    {
      "cell_type": "code",
      "metadata": {
        "id": "tchFqHRxKT0O"
      },
      "source": [
        "print(my_phone)\n",
        "print(my_dads_phone)"
      ],
      "execution_count": null,
      "outputs": []
    },
    {
      "cell_type": "code",
      "metadata": {
        "id": "tKjFkKKuKeHj"
      },
      "source": [
        "my_dads_phone=list(my_phone)\n",
        "# this is called deep copy where both the copies ae independent to each other\n",
        "my_phone[2]=6\n",
        "\n"
      ],
      "execution_count": null,
      "outputs": []
    },
    {
      "cell_type": "code",
      "metadata": {
        "colab": {
          "base_uri": "https://localhost:8080/"
        },
        "id": "8qmppy0wKzfO",
        "outputId": "8aa645d3-1287-4bc1-b5d8-92b42674ea64"
      },
      "source": [
        "print(my_phone)\n",
        "print(my_dads_phone)"
      ],
      "execution_count": null,
      "outputs": [
        {
          "output_type": "stream",
          "text": [
            "['iphone 5s', False, 6, '3G']\n",
            "['iphone 5s', False, 6]\n"
          ],
          "name": "stdout"
        }
      ]
    },
    {
      "cell_type": "code",
      "metadata": {
        "id": "Y1rkzNF4K0KV"
      },
      "source": [
        "my_phone.append('3G')"
      ],
      "execution_count": null,
      "outputs": []
    },
    {
      "cell_type": "code",
      "metadata": {
        "id": "eQfyCy9zLoyg"
      },
      "source": [
        "my_phone_specs=['single sim',50000]"
      ],
      "execution_count": null,
      "outputs": []
    },
    {
      "cell_type": "code",
      "metadata": {
        "colab": {
          "base_uri": "https://localhost:8080/"
        },
        "id": "rAg7sNW-L3_v",
        "outputId": "4431da51-67f8-42e4-e216-ca4f30bed360"
      },
      "source": [
        "print(my_phone_specs)"
      ],
      "execution_count": null,
      "outputs": [
        {
          "output_type": "stream",
          "text": [
            "['single sim', 50000]\n"
          ],
          "name": "stdout"
        }
      ]
    },
    {
      "cell_type": "code",
      "metadata": {
        "id": "-WUDD8KtL7xt"
      },
      "source": [
        "my_phone=my_phone+my_phone_specs"
      ],
      "execution_count": null,
      "outputs": []
    },
    {
      "cell_type": "code",
      "metadata": {
        "colab": {
          "base_uri": "https://localhost:8080/"
        },
        "id": "aF758xABMH3s",
        "outputId": "1738d421-204e-43c3-879c-a46915319d25"
      },
      "source": [
        "print(my_phone)"
      ],
      "execution_count": null,
      "outputs": [
        {
          "output_type": "stream",
          "text": [
            "['iphone 5s', False, 6, '3G', 'single sim', 50000]\n"
          ],
          "name": "stdout"
        }
      ]
    },
    {
      "cell_type": "code",
      "metadata": {
        "colab": {
          "base_uri": "https://localhost:8080/"
        },
        "id": "VjO07ndeMLfg",
        "outputId": "43619bbd-ef86-4d3f-9675-85f481e7b11c"
      },
      "source": [
        "b=list(range(5))\n",
        "c= list(map(lambda x: x**2,b))\n",
        "print(c)"
      ],
      "execution_count": null,
      "outputs": [
        {
          "output_type": "stream",
          "text": [
            "[0, 1, 4, 9, 16]\n"
          ],
          "name": "stdout"
        }
      ]
    },
    {
      "cell_type": "markdown",
      "metadata": {
        "id": "owXSCzuUTrTj"
      },
      "source": [
        "# Tuple"
      ]
    },
    {
      "cell_type": "code",
      "metadata": {
        "colab": {
          "base_uri": "https://localhost:8080/"
        },
        "id": "LGxXA3txTx0O",
        "outputId": "35c8014e-3edd-4737-eb40-cdb22912ff8b"
      },
      "source": [
        "my_phone_tupple=('iPhone-5s','False','50000','5')\n",
        "print(my_phone_tupple)"
      ],
      "execution_count": 2,
      "outputs": [
        {
          "output_type": "stream",
          "text": [
            "('iPhone-5s', 'False', '50000', '5')\n"
          ],
          "name": "stdout"
        }
      ]
    },
    {
      "cell_type": "code",
      "metadata": {
        "colab": {
          "base_uri": "https://localhost:8080/",
          "height": 163
        },
        "id": "6SemG53iUB_W",
        "outputId": "b06e8e4d-b3c8-482e-f938-3a9c5320054b"
      },
      "source": [
        "my_phone_tupple[2]=4"
      ],
      "execution_count": 7,
      "outputs": [
        {
          "output_type": "error",
          "ename": "TypeError",
          "evalue": "ignored",
          "traceback": [
            "\u001b[0;31m---------------------------------------------------------------------------\u001b[0m",
            "\u001b[0;31mTypeError\u001b[0m                                 Traceback (most recent call last)",
            "\u001b[0;32m<ipython-input-7-1d0b9091cc0a>\u001b[0m in \u001b[0;36m<module>\u001b[0;34m()\u001b[0m\n\u001b[0;32m----> 1\u001b[0;31m \u001b[0mmy_phone_tupple\u001b[0m\u001b[0;34m[\u001b[0m\u001b[0;36m2\u001b[0m\u001b[0;34m]\u001b[0m\u001b[0;34m=\u001b[0m\u001b[0;36m4\u001b[0m\u001b[0;34m\u001b[0m\u001b[0;34m\u001b[0m\u001b[0m\n\u001b[0m",
            "\u001b[0;31mTypeError\u001b[0m: 'tuple' object does not support item assignment"
          ]
        }
      ]
    },
    {
      "cell_type": "code",
      "metadata": {
        "colab": {
          "base_uri": "https://localhost:8080/"
        },
        "id": "QvUWXMS_USam",
        "outputId": "fba6ca90-3df4-48fd-de2b-a2985d9981bb"
      },
      "source": [
        "import time\n",
        "tic=time.time()\n",
        "print(tic)"
      ],
      "execution_count": 4,
      "outputs": [
        {
          "output_type": "stream",
          "text": [
            "1606189065.6983893\n"
          ],
          "name": "stdout"
        }
      ]
    },
    {
      "cell_type": "code",
      "metadata": {
        "colab": {
          "base_uri": "https://localhost:8080/"
        },
        "id": "vEpKlDE3VCSz",
        "outputId": "f942c2f6-3018-4fca-b64f-dd1f4f218c3c"
      },
      "source": [
        "toc=time.time()\n",
        "print('Time difference in seconds ',toc-tic)"
      ],
      "execution_count": 6,
      "outputs": [
        {
          "output_type": "stream",
          "text": [
            "Time difference in seconds  64.66570925712585\n"
          ],
          "name": "stdout"
        }
      ]
    },
    {
      "cell_type": "markdown",
      "metadata": {
        "id": "ssRGX_TVWIFc"
      },
      "source": [
        "# Sets\n"
      ]
    },
    {
      "cell_type": "code",
      "metadata": {
        "colab": {
          "base_uri": "https://localhost:8080/"
        },
        "id": "6Q8dxnhwWOad",
        "outputId": "583f2caa-f755-43e0-dd0b-63ed531ab9ab"
      },
      "source": [
        "my_set=('Debdeep','M.Tech','30')\n",
        "print(my_set)"
      ],
      "execution_count": 17,
      "outputs": [
        {
          "output_type": "stream",
          "text": [
            "('Debdeep', 'M.Tech', '30')\n"
          ],
          "name": "stdout"
        }
      ]
    },
    {
      "cell_type": "code",
      "metadata": {
        "colab": {
          "base_uri": "https://localhost:8080/"
        },
        "id": "vgV_V9I-Wbki",
        "outputId": "ee21cf40-3b8c-4d69-b72a-0f537861bfa9"
      },
      "source": [
        "print(my_set.count)"
      ],
      "execution_count": 18,
      "outputs": [
        {
          "output_type": "stream",
          "text": [
            "<built-in method count of tuple object at 0x7f1cf183bc60>\n"
          ],
          "name": "stdout"
        }
      ]
    },
    {
      "cell_type": "code",
      "metadata": {
        "colab": {
          "base_uri": "https://localhost:8080/"
        },
        "id": "hR6u7f8RWjS-",
        "outputId": "88f86b8b-1345-4c4e-9e36-165df38a014e"
      },
      "source": [
        "my_set.index('30')"
      ],
      "execution_count": 19,
      "outputs": [
        {
          "output_type": "execute_result",
          "data": {
            "text/plain": [
              "2"
            ]
          },
          "metadata": {
            "tags": []
          },
          "execution_count": 19
        }
      ]
    },
    {
      "cell_type": "code",
      "metadata": {
        "colab": {
          "base_uri": "https://localhost:8080/"
        },
        "id": "6jd_l5VSXioS",
        "outputId": "9a71f730-df81-4b79-cac6-001a73fd41ca"
      },
      "source": [
        "my_set.count('30')"
      ],
      "execution_count": 20,
      "outputs": [
        {
          "output_type": "execute_result",
          "data": {
            "text/plain": [
              "1"
            ]
          },
          "metadata": {
            "tags": []
          },
          "execution_count": 20
        }
      ]
    },
    {
      "cell_type": "markdown",
      "metadata": {
        "id": "ohsI0JKFYAZ-"
      },
      "source": [
        "# Dictionary"
      ]
    },
    {
      "cell_type": "code",
      "metadata": {
        "colab": {
          "base_uri": "https://localhost:8080/"
        },
        "id": "ulo_VBbQYCjn",
        "outputId": "43c49d65-6d13-453f-b6b8-c8db8dbc3740"
      },
      "source": [
        "my_phone_dict={}\n",
        "type(my_phone_dict)"
      ],
      "execution_count": 21,
      "outputs": [
        {
          "output_type": "execute_result",
          "data": {
            "text/plain": [
              "dict"
            ]
          },
          "metadata": {
            "tags": []
          },
          "execution_count": 21
        }
      ]
    },
    {
      "cell_type": "code",
      "metadata": {
        "colab": {
          "base_uri": "https://localhost:8080/"
        },
        "id": "fQsWVnWHYJzz",
        "outputId": "2071de46-f413-4a96-fe79-1baa919213d7"
      },
      "source": [
        "my_phone_dict={\n",
        "    'name':'iPhone-5s',\n",
        "    'is_android':False,\n",
        "    'price':50000,\n",
        "    'screen_size':5.5,\n",
        "    'other':['It is superb','Debdeep is the owner']\n",
        "}\n",
        "\n",
        "print(my_phone_dict)"
      ],
      "execution_count": 30,
      "outputs": [
        {
          "output_type": "stream",
          "text": [
            "{'name': 'iPhone-5s', 'is_android': False, 'price': 50000, 'screen_size': 5.5, 'other': ['It is superb', 'Debdeep is the owner']}\n"
          ],
          "name": "stdout"
        }
      ]
    },
    {
      "cell_type": "code",
      "metadata": {
        "id": "-V9bKPv4bAP3"
      },
      "source": [
        "my_phone_dict['value_for_money']=True"
      ],
      "execution_count": 31,
      "outputs": []
    },
    {
      "cell_type": "code",
      "metadata": {
        "colab": {
          "base_uri": "https://localhost:8080/"
        },
        "id": "B_QOO7uJb3Ov",
        "outputId": "3bfdada1-5a82-4024-bbc0-562f19d73c9e"
      },
      "source": [
        "print(my_phone_dict)"
      ],
      "execution_count": 32,
      "outputs": [
        {
          "output_type": "stream",
          "text": [
            "{'name': 'iPhone-5s', 'is_android': False, 'price': 50000, 'screen_size': 5.5, 'other': ['It is superb', 'Debdeep is the owner'], 'value_for_money': True}\n"
          ],
          "name": "stdout"
        }
      ]
    },
    {
      "cell_type": "code",
      "metadata": {
        "colab": {
          "base_uri": "https://localhost:8080/"
        },
        "id": "sUY1mmsLb6wM",
        "outputId": "202ca138-9042-48f9-b3ce-72756afdc48c"
      },
      "source": [
        "my_phone_dict['other']"
      ],
      "execution_count": 33,
      "outputs": [
        {
          "output_type": "execute_result",
          "data": {
            "text/plain": [
              "['It is superb', 'Debdeep is the owner']"
            ]
          },
          "metadata": {
            "tags": []
          },
          "execution_count": 33
        }
      ]
    },
    {
      "cell_type": "code",
      "metadata": {
        "colab": {
          "base_uri": "https://localhost:8080/"
        },
        "id": "ekfNyLQlcE9c",
        "outputId": "c0281d18-b447-4884-9832-8f4b76cac9f6"
      },
      "source": [
        "my_phone_dict.keys()"
      ],
      "execution_count": 36,
      "outputs": [
        {
          "output_type": "execute_result",
          "data": {
            "text/plain": [
              "dict_items([('name', 'iPhone-5s'), ('is_android', False), ('price', 50000), ('screen_size', 5.5), ('other', ['It is superb', 'Debdeep is the owner']), ('value_for_money', True)])"
            ]
          },
          "metadata": {
            "tags": []
          },
          "execution_count": 36
        }
      ]
    },
    {
      "cell_type": "code",
      "metadata": {
        "colab": {
          "base_uri": "https://localhost:8080/"
        },
        "id": "yoN3XD4acd9D",
        "outputId": "10960eed-f69b-46c0-ec09-72a0551585dc"
      },
      "source": [
        "my_phone_dict.items()"
      ],
      "execution_count": 37,
      "outputs": [
        {
          "output_type": "execute_result",
          "data": {
            "text/plain": [
              "dict_items([('name', 'iPhone-5s'), ('is_android', False), ('price', 50000), ('screen_size', 5.5), ('other', ['It is superb', 'Debdeep is the owner']), ('value_for_money', True)])"
            ]
          },
          "metadata": {
            "tags": []
          },
          "execution_count": 37
        }
      ]
    },
    {
      "cell_type": "code",
      "metadata": {
        "colab": {
          "base_uri": "https://localhost:8080/"
        },
        "id": "MDNTXdHocN5A",
        "outputId": "52bebdbe-df8e-44a6-f0d1-b5da7026c4c8"
      },
      "source": [
        "my_phone_dict.values()"
      ],
      "execution_count": 35,
      "outputs": [
        {
          "output_type": "execute_result",
          "data": {
            "text/plain": [
              "dict_values(['iPhone-5s', False, 50000, 5.5, ['It is superb', 'Debdeep is the owner'], True])"
            ]
          },
          "metadata": {
            "tags": []
          },
          "execution_count": 35
        }
      ]
    },
    {
      "cell_type": "code",
      "metadata": {
        "colab": {
          "base_uri": "https://localhost:8080/"
        },
        "id": "svgog_hmcSLs",
        "outputId": "27d05116-20e7-4af4-d858-d04d970a0504"
      },
      "source": [
        "for key in my_phone_dict.keys():\n",
        "  print(key,' = ',my_phone_dict[key])"
      ],
      "execution_count": 40,
      "outputs": [
        {
          "output_type": "stream",
          "text": [
            "name  =  iPhone-5s\n",
            "is_android  =  False\n",
            "price  =  50000\n",
            "screen_size  =  5.5\n",
            "other  =  ['It is superb', 'Debdeep is the owner']\n",
            "value_for_money  =  True\n"
          ],
          "name": "stdout"
        }
      ]
    },
    {
      "cell_type": "code",
      "metadata": {
        "id": "MWPXDbBfczYU"
      },
      "source": [
        ""
      ],
      "execution_count": null,
      "outputs": []
    }
  ]
}