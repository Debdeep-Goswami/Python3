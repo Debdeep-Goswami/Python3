{
  "nbformat": 4,
  "nbformat_minor": 0,
  "metadata": {
    "colab": {
      "name": "PythonBasicDataTypes.ipynb",
      "provenance": [],
      "collapsed_sections": [],
      "authorship_tag": "ABX9TyMdnP89UiWB9l3SnIiqhkIv",
      "include_colab_link": true
    },
    "kernelspec": {
      "name": "python3",
      "display_name": "Python 3"
    }
  },
  "cells": [
    {
      "cell_type": "markdown",
      "metadata": {
        "id": "view-in-github",
        "colab_type": "text"
      },
      "source": [
        "<a href=\"https://colab.research.google.com/github/Debdeep-Goswami/Python3/blob/main/PythonBasicDataTypes.ipynb\" target=\"_parent\"><img src=\"https://colab.research.google.com/assets/colab-badge.svg\" alt=\"Open In Colab\"/></a>"
      ]
    },
    {
      "cell_type": "code",
      "metadata": {
        "id": "juF1w-jK23Z3"
      },
      "source": [
        "name='iphone 5s'"
      ],
      "execution_count": 1,
      "outputs": []
    },
    {
      "cell_type": "code",
      "metadata": {
        "colab": {
          "base_uri": "https://localhost:8080/"
        },
        "id": "iJW3hai63TOf",
        "outputId": "fcf5d392-8d6e-436d-807b-bd3869ea42e2"
      },
      "source": [
        "type(name)"
      ],
      "execution_count": 2,
      "outputs": [
        {
          "output_type": "execute_result",
          "data": {
            "text/plain": [
              "str"
            ]
          },
          "metadata": {
            "tags": []
          },
          "execution_count": 2
        }
      ]
    },
    {
      "cell_type": "code",
      "metadata": {
        "colab": {
          "base_uri": "https://localhost:8080/"
        },
        "id": "FSg2udwL3Znr",
        "outputId": "ef3e0e13-d35c-4147-d144-fb6a1edae329"
      },
      "source": [
        "print(name)"
      ],
      "execution_count": 3,
      "outputs": [
        {
          "output_type": "stream",
          "text": [
            "iphone 5s\n"
          ],
          "name": "stdout"
        }
      ]
    },
    {
      "cell_type": "code",
      "metadata": {
        "colab": {
          "base_uri": "https://localhost:8080/"
        },
        "id": "8tyn3xqH3gAS",
        "outputId": "340e83cb-95f3-43dc-ae7f-ac9432d330a1"
      },
      "source": [
        "screen_size=4.3\n",
        "type(screen_size)"
      ],
      "execution_count": 4,
      "outputs": [
        {
          "output_type": "execute_result",
          "data": {
            "text/plain": [
              "float"
            ]
          },
          "metadata": {
            "tags": []
          },
          "execution_count": 4
        }
      ]
    },
    {
      "cell_type": "code",
      "metadata": {
        "colab": {
          "base_uri": "https://localhost:8080/"
        },
        "id": "pZIP4TsU3xZZ",
        "outputId": "ac49c52d-db55-4dc0-f3b0-3ebf088d5696"
      },
      "source": [
        "number_of_speakers = 1\n",
        "type(number_of_speakers)"
      ],
      "execution_count": 5,
      "outputs": [
        {
          "output_type": "execute_result",
          "data": {
            "text/plain": [
              "int"
            ]
          },
          "metadata": {
            "tags": []
          },
          "execution_count": 5
        }
      ]
    },
    {
      "cell_type": "code",
      "metadata": {
        "colab": {
          "base_uri": "https://localhost:8080/"
        },
        "id": "wb9wEBzY4z6p",
        "outputId": "a36e7a0b-b819-4528-d315-f3ffdf05cddd"
      },
      "source": [
        "print('I just bought an '+name)"
      ],
      "execution_count": 6,
      "outputs": [
        {
          "output_type": "stream",
          "text": [
            "I just bought an iphone 5s\n"
          ],
          "name": "stdout"
        }
      ]
    },
    {
      "cell_type": "code",
      "metadata": {
        "colab": {
          "base_uri": "https://localhost:8080/"
        },
        "id": "-DynUU0x49lz",
        "outputId": "435496a2-7309-4bbc-8d5f-77811943fa4d"
      },
      "source": [
        "a=3\n",
        "b=2\n",
        "print(a*b,a/b,a+b,a-b,a//b,a**b)"
      ],
      "execution_count": 8,
      "outputs": [
        {
          "output_type": "stream",
          "text": [
            "6 1.5 5 1 1 9\n"
          ],
          "name": "stdout"
        }
      ]
    },
    {
      "cell_type": "code",
      "metadata": {
        "colab": {
          "base_uri": "https://localhost:8080/"
        },
        "id": "dqSbL0DD5Mb8",
        "outputId": "95724731-3087-4846-ba46-88afe70af204"
      },
      "source": [
        "is_android=False\n",
        "type(is_android)"
      ],
      "execution_count": 9,
      "outputs": [
        {
          "output_type": "execute_result",
          "data": {
            "text/plain": [
              "bool"
            ]
          },
          "metadata": {
            "tags": []
          },
          "execution_count": 9
        }
      ]
    },
    {
      "cell_type": "code",
      "metadata": {
        "colab": {
          "base_uri": "https://localhost:8080/"
        },
        "id": "OKERxReT5a7l",
        "outputId": "f8d42eea-cd25-4f06-8df2-b135093369a6"
      },
      "source": [
        "print(is_android==False, is_android==True)"
      ],
      "execution_count": 12,
      "outputs": [
        {
          "output_type": "stream",
          "text": [
            "True False\n"
          ],
          "name": "stdout"
        }
      ]
    },
    {
      "cell_type": "code",
      "metadata": {
        "colab": {
          "base_uri": "https://localhost:8080/"
        },
        "id": "4tjp1rHi5hUk",
        "outputId": "60701f08-6592-4f06-da31-35c9d7e0c931"
      },
      "source": [
        "if is_android==False:\n",
        "  print(name+' doesnot support android.')\n",
        "  print('continue to print inside if block')\n",
        "print(\"Printing out of if block\")"
      ],
      "execution_count": 14,
      "outputs": [
        {
          "output_type": "stream",
          "text": [
            "iphone 5s doesnot support android.\n",
            "continue to print inside if block\n",
            "Printing out of if block\n"
          ],
          "name": "stdout"
        }
      ]
    },
    {
      "cell_type": "code",
      "metadata": {
        "colab": {
          "base_uri": "https://localhost:8080/"
        },
        "id": "-REDR5eQwN0X",
        "outputId": "fea3d070-8625-41d5-af1e-941b50d3defb"
      },
      "source": [
        "for i in range(5):\n",
        "  print (i,i**2)"
      ],
      "execution_count": 15,
      "outputs": [
        {
          "output_type": "stream",
          "text": [
            "0 0\n",
            "1 1\n",
            "2 4\n",
            "3 9\n",
            "4 16\n"
          ],
          "name": "stdout"
        }
      ]
    },
    {
      "cell_type": "code",
      "metadata": {
        "id": "s-jRoysWwldc"
      },
      "source": [
        "range?"
      ],
      "execution_count": 16,
      "outputs": []
    },
    {
      "cell_type": "code",
      "metadata": {
        "colab": {
          "base_uri": "https://localhost:8080/"
        },
        "id": "HxtNfA0tw9Wv",
        "outputId": "cb3406f3-e53c-4cbe-8f52-3858c8c787ad"
      },
      "source": [
        "i=0\n",
        "while i<5:\n",
        "  print(i,i**2)\n",
        "  i+=1  # equivalent to i=i+1"
      ],
      "execution_count": 19,
      "outputs": [
        {
          "output_type": "stream",
          "text": [
            "0 0\n",
            "1 1\n",
            "2 4\n",
            "3 9\n",
            "4 16\n"
          ],
          "name": "stdout"
        }
      ]
    },
    {
      "cell_type": "code",
      "metadata": {
        "colab": {
          "base_uri": "https://localhost:8080/"
        },
        "id": "6En615VaxCD9",
        "outputId": "cb397d9d-0e42-40ed-fddd-234eccbb832a"
      },
      "source": [
        "def print_squares(stop_val):\n",
        "  for i in range(stop_val):\n",
        "    print(i,i**2)\n",
        "\n",
        "print_squares(10)"
      ],
      "execution_count": 20,
      "outputs": [
        {
          "output_type": "stream",
          "text": [
            "0 0\n",
            "1 1\n",
            "2 4\n",
            "3 9\n",
            "4 16\n",
            "5 25\n",
            "6 36\n",
            "7 49\n",
            "8 64\n",
            "9 81\n"
          ],
          "name": "stdout"
        }
      ]
    },
    {
      "cell_type": "code",
      "metadata": {
        "colab": {
          "base_uri": "https://localhost:8080/"
        },
        "id": "7mqDnLwOx4a-",
        "outputId": "afd5db90-a461-4064-9c94-bcf3089aea93"
      },
      "source": [
        "def sum_of_squares(stop_val):\n",
        "  sum=0\n",
        "  for i in range(stop_val):\n",
        "    sum+=i**2\n",
        "  return sum\n",
        "\n",
        "sum_of_squares(10)"
      ],
      "execution_count": 21,
      "outputs": [
        {
          "output_type": "execute_result",
          "data": {
            "text/plain": [
              "285"
            ]
          },
          "metadata": {
            "tags": []
          },
          "execution_count": 21
        }
      ]
    },
    {
      "cell_type": "code",
      "metadata": {
        "colab": {
          "base_uri": "https://localhost:8080/"
        },
        "id": "6afNedUlyYUX",
        "outputId": "b007347a-3933-4f6b-edf5-f45d23642c59"
      },
      "source": [
        "print_square(10)\n",
        "sum_of_squares(10)"
      ],
      "execution_count": 23,
      "outputs": [
        {
          "output_type": "stream",
          "text": [
            "0 0\n",
            "1 1\n",
            "2 4\n",
            "3 9\n",
            "4 16\n",
            "5 25\n",
            "6 36\n",
            "7 49\n",
            "8 64\n",
            "9 81\n"
          ],
          "name": "stdout"
        },
        {
          "output_type": "execute_result",
          "data": {
            "text/plain": [
              "285"
            ]
          },
          "metadata": {
            "tags": []
          },
          "execution_count": 23
        }
      ]
    },
    {
      "cell_type": "code",
      "metadata": {
        "colab": {
          "base_uri": "https://localhost:8080/"
        },
        "id": "9BKsgZJZyhbY",
        "outputId": "e68d8cba-8c5e-49de-e61f-50c9ae7e44b5"
      },
      "source": [
        "sum=sum_of_squares(10)\n",
        "print('Sum of all squares',sum)"
      ],
      "execution_count": 26,
      "outputs": [
        {
          "output_type": "stream",
          "text": [
            "Sum of all squares 285\n"
          ],
          "name": "stdout"
        }
      ]
    },
    {
      "cell_type": "code",
      "metadata": {
        "id": "MuqnatYiypFz"
      },
      "source": [
        "help(range)"
      ],
      "execution_count": null,
      "outputs": []
    },
    {
      "cell_type": "code",
      "metadata": {
        "colab": {
          "base_uri": "https://localhost:8080/"
        },
        "id": "n-kQDks6zT2-",
        "outputId": "5772a390-a10d-4f28-e374-7d183c37e0f4"
      },
      "source": [
        "for i in range(1,10):\n",
        "  print(i,i**2)"
      ],
      "execution_count": 28,
      "outputs": [
        {
          "output_type": "stream",
          "text": [
            "1 1\n",
            "2 4\n",
            "3 9\n",
            "4 16\n",
            "5 25\n",
            "6 36\n",
            "7 49\n",
            "8 64\n",
            "9 81\n"
          ],
          "name": "stdout"
        }
      ]
    },
    {
      "cell_type": "code",
      "metadata": {
        "id": "L2x_fPlK0oq8"
      },
      "source": [
        ""
      ],
      "execution_count": null,
      "outputs": []
    }
  ]
}