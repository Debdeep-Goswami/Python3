{
  "nbformat": 4,
  "nbformat_minor": 0,
  "metadata": {
    "colab": {
      "name": "PythonBasicDataTypes.ipynb",
      "provenance": [],
      "collapsed_sections": [
        "86a0tMdWecvi",
        "GPB8jslQerP2",
        "izFrdwzRI5Eu",
        "owXSCzuUTrTj",
        "ssRGX_TVWIFc",
        "ohsI0JKFYAZ-",
        "PgefPM0wSsEX",
        "IDJ_4pIzdvK3",
        "YnF4rYIoiAp_",
        "-YViIWDNvhQb"
      ],
      "authorship_tag": "ABX9TyOt1ehA/Q2DpwhGGRUNayqn",
      "include_colab_link": true
    },
    "kernelspec": {
      "name": "python3",
      "display_name": "Python 3"
    }
  },
  "cells": [
    {
      "cell_type": "markdown",
      "metadata": {
        "id": "view-in-github",
        "colab_type": "text"
      },
      "source": [
        "<a href=\"https://colab.research.google.com/github/Debdeep-Goswami/Python3/blob/main/PythonBasicDataTypes.ipynb\" target=\"_parent\"><img src=\"https://colab.research.google.com/assets/colab-badge.svg\" alt=\"Open In Colab\"/></a>"
      ]
    },
    {
      "cell_type": "markdown",
      "metadata": {
        "id": "86a0tMdWecvi"
      },
      "source": [
        "#Simple data types and operators"
      ]
    },
    {
      "cell_type": "code",
      "metadata": {
        "id": "juF1w-jK23Z3"
      },
      "source": [
        "name='iphone 5s'"
      ],
      "execution_count": null,
      "outputs": []
    },
    {
      "cell_type": "code",
      "metadata": {
        "colab": {
          "base_uri": "https://localhost:8080/"
        },
        "id": "iJW3hai63TOf",
        "outputId": "fcf5d392-8d6e-436d-807b-bd3869ea42e2"
      },
      "source": [
        "type(name)"
      ],
      "execution_count": null,
      "outputs": [
        {
          "output_type": "execute_result",
          "data": {
            "text/plain": [
              "str"
            ]
          },
          "metadata": {
            "tags": []
          },
          "execution_count": 2
        }
      ]
    },
    {
      "cell_type": "code",
      "metadata": {
        "colab": {
          "base_uri": "https://localhost:8080/"
        },
        "id": "FSg2udwL3Znr",
        "outputId": "ef3e0e13-d35c-4147-d144-fb6a1edae329"
      },
      "source": [
        "print(name)"
      ],
      "execution_count": null,
      "outputs": [
        {
          "output_type": "stream",
          "text": [
            "iphone 5s\n"
          ],
          "name": "stdout"
        }
      ]
    },
    {
      "cell_type": "code",
      "metadata": {
        "colab": {
          "base_uri": "https://localhost:8080/"
        },
        "id": "8tyn3xqH3gAS",
        "outputId": "94972498-5a03-4099-8997-351327a9def9"
      },
      "source": [
        "screen_size=4.3\n",
        "type(screen_size)"
      ],
      "execution_count": null,
      "outputs": [
        {
          "output_type": "execute_result",
          "data": {
            "text/plain": [
              "float"
            ]
          },
          "metadata": {
            "tags": []
          },
          "execution_count": 3
        }
      ]
    },
    {
      "cell_type": "code",
      "metadata": {
        "colab": {
          "base_uri": "https://localhost:8080/"
        },
        "id": "pZIP4TsU3xZZ",
        "outputId": "ac49c52d-db55-4dc0-f3b0-3ebf088d5696"
      },
      "source": [
        "number_of_speakers = 1\n",
        "type(number_of_speakers)"
      ],
      "execution_count": null,
      "outputs": [
        {
          "output_type": "execute_result",
          "data": {
            "text/plain": [
              "int"
            ]
          },
          "metadata": {
            "tags": []
          },
          "execution_count": 5
        }
      ]
    },
    {
      "cell_type": "code",
      "metadata": {
        "colab": {
          "base_uri": "https://localhost:8080/"
        },
        "id": "wb9wEBzY4z6p",
        "outputId": "a36e7a0b-b819-4528-d315-f3ffdf05cddd"
      },
      "source": [
        "print('I just bought an '+name)"
      ],
      "execution_count": null,
      "outputs": [
        {
          "output_type": "stream",
          "text": [
            "I just bought an iphone 5s\n"
          ],
          "name": "stdout"
        }
      ]
    },
    {
      "cell_type": "code",
      "metadata": {
        "colab": {
          "base_uri": "https://localhost:8080/"
        },
        "id": "-DynUU0x49lz",
        "outputId": "435496a2-7309-4bbc-8d5f-77811943fa4d"
      },
      "source": [
        "a=3\n",
        "b=2\n",
        "print(a*b,a/b,a+b,a-b,a//b,a**b)"
      ],
      "execution_count": null,
      "outputs": [
        {
          "output_type": "stream",
          "text": [
            "6 1.5 5 1 1 9\n"
          ],
          "name": "stdout"
        }
      ]
    },
    {
      "cell_type": "code",
      "metadata": {
        "colab": {
          "base_uri": "https://localhost:8080/"
        },
        "id": "dqSbL0DD5Mb8",
        "outputId": "e303c793-d2a4-4a89-f601-803e922b0276"
      },
      "source": [
        "is_android=False\n",
        "type(is_android)"
      ],
      "execution_count": null,
      "outputs": [
        {
          "output_type": "execute_result",
          "data": {
            "text/plain": [
              "bool"
            ]
          },
          "metadata": {
            "tags": []
          },
          "execution_count": 5
        }
      ]
    },
    {
      "cell_type": "code",
      "metadata": {
        "colab": {
          "base_uri": "https://localhost:8080/"
        },
        "id": "OKERxReT5a7l",
        "outputId": "f8d42eea-cd25-4f06-8df2-b135093369a6"
      },
      "source": [
        "print(is_android==False, is_android==True)"
      ],
      "execution_count": null,
      "outputs": [
        {
          "output_type": "stream",
          "text": [
            "True False\n"
          ],
          "name": "stdout"
        }
      ]
    },
    {
      "cell_type": "code",
      "metadata": {
        "colab": {
          "base_uri": "https://localhost:8080/"
        },
        "id": "4tjp1rHi5hUk",
        "outputId": "60701f08-6592-4f06-da31-35c9d7e0c931"
      },
      "source": [
        "if is_android==False:\n",
        "  print(name+' doesnot support android.')\n",
        "  print('continue to print inside if block')\n",
        "print(\"Printing out of if block\")"
      ],
      "execution_count": null,
      "outputs": [
        {
          "output_type": "stream",
          "text": [
            "iphone 5s doesnot support android.\n",
            "continue to print inside if block\n",
            "Printing out of if block\n"
          ],
          "name": "stdout"
        }
      ]
    },
    {
      "cell_type": "markdown",
      "metadata": {
        "id": "GPB8jslQerP2"
      },
      "source": [
        "#Loops and Function"
      ]
    },
    {
      "cell_type": "code",
      "metadata": {
        "colab": {
          "base_uri": "https://localhost:8080/"
        },
        "id": "-REDR5eQwN0X",
        "outputId": "fea3d070-8625-41d5-af1e-941b50d3defb"
      },
      "source": [
        "for i in range(5):\n",
        "  print (i,i**2)"
      ],
      "execution_count": null,
      "outputs": [
        {
          "output_type": "stream",
          "text": [
            "0 0\n",
            "1 1\n",
            "2 4\n",
            "3 9\n",
            "4 16\n"
          ],
          "name": "stdout"
        }
      ]
    },
    {
      "cell_type": "code",
      "metadata": {
        "id": "s-jRoysWwldc"
      },
      "source": [
        "range?"
      ],
      "execution_count": null,
      "outputs": []
    },
    {
      "cell_type": "code",
      "metadata": {
        "colab": {
          "base_uri": "https://localhost:8080/"
        },
        "id": "HxtNfA0tw9Wv",
        "outputId": "cb3406f3-e53c-4cbe-8f52-3858c8c787ad"
      },
      "source": [
        "i=0\n",
        "while i<5:\n",
        "  print(i,i**2)\n",
        "  i+=1  # equivalent to i=i+1"
      ],
      "execution_count": null,
      "outputs": [
        {
          "output_type": "stream",
          "text": [
            "0 0\n",
            "1 1\n",
            "2 4\n",
            "3 9\n",
            "4 16\n"
          ],
          "name": "stdout"
        }
      ]
    },
    {
      "cell_type": "code",
      "metadata": {
        "colab": {
          "base_uri": "https://localhost:8080/"
        },
        "id": "6En615VaxCD9",
        "outputId": "cb397d9d-0e42-40ed-fddd-234eccbb832a"
      },
      "source": [
        "def print_squares(stop_val):\n",
        "  for i in range(stop_val):\n",
        "    print(i,i**2)\n",
        "\n",
        "print_squares(10)"
      ],
      "execution_count": null,
      "outputs": [
        {
          "output_type": "stream",
          "text": [
            "0 0\n",
            "1 1\n",
            "2 4\n",
            "3 9\n",
            "4 16\n",
            "5 25\n",
            "6 36\n",
            "7 49\n",
            "8 64\n",
            "9 81\n"
          ],
          "name": "stdout"
        }
      ]
    },
    {
      "cell_type": "code",
      "metadata": {
        "colab": {
          "base_uri": "https://localhost:8080/"
        },
        "id": "7mqDnLwOx4a-",
        "outputId": "afd5db90-a461-4064-9c94-bcf3089aea93"
      },
      "source": [
        "def sum_of_squares(stop_val):\n",
        "  sum=0\n",
        "  for i in range(stop_val):\n",
        "    sum+=i**2\n",
        "  return sum\n",
        "\n",
        "sum_of_squares(10)"
      ],
      "execution_count": null,
      "outputs": [
        {
          "output_type": "execute_result",
          "data": {
            "text/plain": [
              "285"
            ]
          },
          "metadata": {
            "tags": []
          },
          "execution_count": 21
        }
      ]
    },
    {
      "cell_type": "code",
      "metadata": {
        "colab": {
          "base_uri": "https://localhost:8080/"
        },
        "id": "6afNedUlyYUX",
        "outputId": "b007347a-3933-4f6b-edf5-f45d23642c59"
      },
      "source": [
        "print_square(10)\n",
        "sum_of_squares(10)"
      ],
      "execution_count": null,
      "outputs": [
        {
          "output_type": "stream",
          "text": [
            "0 0\n",
            "1 1\n",
            "2 4\n",
            "3 9\n",
            "4 16\n",
            "5 25\n",
            "6 36\n",
            "7 49\n",
            "8 64\n",
            "9 81\n"
          ],
          "name": "stdout"
        },
        {
          "output_type": "execute_result",
          "data": {
            "text/plain": [
              "285"
            ]
          },
          "metadata": {
            "tags": []
          },
          "execution_count": 23
        }
      ]
    },
    {
      "cell_type": "code",
      "metadata": {
        "colab": {
          "base_uri": "https://localhost:8080/"
        },
        "id": "9BKsgZJZyhbY",
        "outputId": "e68d8cba-8c5e-49de-e61f-50c9ae7e44b5"
      },
      "source": [
        "sum=sum_of_squares(10)\n",
        "print('Sum of all squares',sum)"
      ],
      "execution_count": null,
      "outputs": [
        {
          "output_type": "stream",
          "text": [
            "Sum of all squares 285\n"
          ],
          "name": "stdout"
        }
      ]
    },
    {
      "cell_type": "code",
      "metadata": {
        "id": "MuqnatYiypFz"
      },
      "source": [
        "help(range)"
      ],
      "execution_count": null,
      "outputs": []
    },
    {
      "cell_type": "code",
      "metadata": {
        "colab": {
          "base_uri": "https://localhost:8080/"
        },
        "id": "n-kQDks6zT2-",
        "outputId": "5772a390-a10d-4f28-e374-7d183c37e0f4"
      },
      "source": [
        "for i in range(1,10):\n",
        "  print(i,i**2)"
      ],
      "execution_count": null,
      "outputs": [
        {
          "output_type": "stream",
          "text": [
            "1 1\n",
            "2 4\n",
            "3 9\n",
            "4 16\n",
            "5 25\n",
            "6 36\n",
            "7 49\n",
            "8 64\n",
            "9 81\n"
          ],
          "name": "stdout"
        }
      ]
    },
    {
      "cell_type": "code",
      "metadata": {
        "id": "L2x_fPlK0oq8"
      },
      "source": [
        ""
      ],
      "execution_count": null,
      "outputs": []
    },
    {
      "cell_type": "markdown",
      "metadata": {
        "id": "izFrdwzRI5Eu"
      },
      "source": [
        "# Lists\n"
      ]
    },
    {
      "cell_type": "code",
      "metadata": {
        "colab": {
          "base_uri": "https://localhost:8080/"
        },
        "id": "_D80EJnuJA2R",
        "outputId": "a2b372be-948b-4c5a-951d-01a39e623063"
      },
      "source": [
        "my_phone = [name, is_android, screen_size]\n",
        "type(my_phone)"
      ],
      "execution_count": null,
      "outputs": [
        {
          "output_type": "execute_result",
          "data": {
            "text/plain": [
              "list"
            ]
          },
          "metadata": {
            "tags": []
          },
          "execution_count": 6
        }
      ]
    },
    {
      "cell_type": "code",
      "metadata": {
        "colab": {
          "base_uri": "https://localhost:8080/"
        },
        "id": "b37GuOa1Jlns",
        "outputId": "37765e83-5705-44e5-81ff-564c286258a7"
      },
      "source": [
        "print(my_phone)"
      ],
      "execution_count": null,
      "outputs": [
        {
          "output_type": "stream",
          "text": [
            "['iphone 5s', False, 4.3]\n"
          ],
          "name": "stdout"
        }
      ]
    },
    {
      "cell_type": "code",
      "metadata": {
        "colab": {
          "base_uri": "https://localhost:8080/"
        },
        "id": "0I9Y0T6zJo_k",
        "outputId": "b7d3b743-9cfb-4b54-8908-ab911078b635"
      },
      "source": [
        "my_dads_phone=my_phone\n",
        "print(my_dads_phone)"
      ],
      "execution_count": null,
      "outputs": [
        {
          "output_type": "stream",
          "text": [
            "['iphone 5s', False, 4.3]\n"
          ],
          "name": "stdout"
        }
      ]
    },
    {
      "cell_type": "code",
      "metadata": {
        "id": "rDJtUN3nKOdz"
      },
      "source": [
        "my_phone[2]=4"
      ],
      "execution_count": null,
      "outputs": []
    },
    {
      "cell_type": "code",
      "metadata": {
        "id": "tchFqHRxKT0O"
      },
      "source": [
        "print(my_phone)\n",
        "print(my_dads_phone)"
      ],
      "execution_count": null,
      "outputs": []
    },
    {
      "cell_type": "code",
      "metadata": {
        "id": "tKjFkKKuKeHj"
      },
      "source": [
        "my_dads_phone=list(my_phone)\n",
        "# this is called deep copy where both the copies ae independent to each other\n",
        "my_phone[2]=6\n",
        "\n"
      ],
      "execution_count": null,
      "outputs": []
    },
    {
      "cell_type": "code",
      "metadata": {
        "colab": {
          "base_uri": "https://localhost:8080/"
        },
        "id": "8qmppy0wKzfO",
        "outputId": "8aa645d3-1287-4bc1-b5d8-92b42674ea64"
      },
      "source": [
        "print(my_phone)\n",
        "print(my_dads_phone)"
      ],
      "execution_count": null,
      "outputs": [
        {
          "output_type": "stream",
          "text": [
            "['iphone 5s', False, 6, '3G']\n",
            "['iphone 5s', False, 6]\n"
          ],
          "name": "stdout"
        }
      ]
    },
    {
      "cell_type": "code",
      "metadata": {
        "id": "Y1rkzNF4K0KV"
      },
      "source": [
        "my_phone.append('3G')"
      ],
      "execution_count": null,
      "outputs": []
    },
    {
      "cell_type": "code",
      "metadata": {
        "id": "eQfyCy9zLoyg"
      },
      "source": [
        "my_phone_specs=['single sim',50000]"
      ],
      "execution_count": null,
      "outputs": []
    },
    {
      "cell_type": "code",
      "metadata": {
        "colab": {
          "base_uri": "https://localhost:8080/"
        },
        "id": "rAg7sNW-L3_v",
        "outputId": "4431da51-67f8-42e4-e216-ca4f30bed360"
      },
      "source": [
        "print(my_phone_specs)"
      ],
      "execution_count": null,
      "outputs": [
        {
          "output_type": "stream",
          "text": [
            "['single sim', 50000]\n"
          ],
          "name": "stdout"
        }
      ]
    },
    {
      "cell_type": "code",
      "metadata": {
        "id": "-WUDD8KtL7xt"
      },
      "source": [
        "my_phone=my_phone+my_phone_specs"
      ],
      "execution_count": null,
      "outputs": []
    },
    {
      "cell_type": "code",
      "metadata": {
        "colab": {
          "base_uri": "https://localhost:8080/"
        },
        "id": "aF758xABMH3s",
        "outputId": "1738d421-204e-43c3-879c-a46915319d25"
      },
      "source": [
        "print(my_phone)"
      ],
      "execution_count": null,
      "outputs": [
        {
          "output_type": "stream",
          "text": [
            "['iphone 5s', False, 6, '3G', 'single sim', 50000]\n"
          ],
          "name": "stdout"
        }
      ]
    },
    {
      "cell_type": "code",
      "metadata": {
        "colab": {
          "base_uri": "https://localhost:8080/"
        },
        "id": "VjO07ndeMLfg",
        "outputId": "43619bbd-ef86-4d3f-9675-85f481e7b11c"
      },
      "source": [
        "b=list(range(5))\n",
        "c= list(map(lambda x: x**2,b))\n",
        "print(c)"
      ],
      "execution_count": null,
      "outputs": [
        {
          "output_type": "stream",
          "text": [
            "[0, 1, 4, 9, 16]\n"
          ],
          "name": "stdout"
        }
      ]
    },
    {
      "cell_type": "markdown",
      "metadata": {
        "id": "owXSCzuUTrTj"
      },
      "source": [
        "# Tuple"
      ]
    },
    {
      "cell_type": "code",
      "metadata": {
        "colab": {
          "base_uri": "https://localhost:8080/"
        },
        "id": "LGxXA3txTx0O",
        "outputId": "35c8014e-3edd-4737-eb40-cdb22912ff8b"
      },
      "source": [
        "my_phone_tupple=('iPhone-5s','False','50000','5')\n",
        "print(my_phone_tupple)"
      ],
      "execution_count": null,
      "outputs": [
        {
          "output_type": "stream",
          "text": [
            "('iPhone-5s', 'False', '50000', '5')\n"
          ],
          "name": "stdout"
        }
      ]
    },
    {
      "cell_type": "code",
      "metadata": {
        "colab": {
          "base_uri": "https://localhost:8080/",
          "height": 163
        },
        "id": "6SemG53iUB_W",
        "outputId": "b06e8e4d-b3c8-482e-f938-3a9c5320054b"
      },
      "source": [
        "my_phone_tupple[2]=4"
      ],
      "execution_count": null,
      "outputs": [
        {
          "output_type": "error",
          "ename": "TypeError",
          "evalue": "ignored",
          "traceback": [
            "\u001b[0;31m---------------------------------------------------------------------------\u001b[0m",
            "\u001b[0;31mTypeError\u001b[0m                                 Traceback (most recent call last)",
            "\u001b[0;32m<ipython-input-7-1d0b9091cc0a>\u001b[0m in \u001b[0;36m<module>\u001b[0;34m()\u001b[0m\n\u001b[0;32m----> 1\u001b[0;31m \u001b[0mmy_phone_tupple\u001b[0m\u001b[0;34m[\u001b[0m\u001b[0;36m2\u001b[0m\u001b[0;34m]\u001b[0m\u001b[0;34m=\u001b[0m\u001b[0;36m4\u001b[0m\u001b[0;34m\u001b[0m\u001b[0;34m\u001b[0m\u001b[0m\n\u001b[0m",
            "\u001b[0;31mTypeError\u001b[0m: 'tuple' object does not support item assignment"
          ]
        }
      ]
    },
    {
      "cell_type": "code",
      "metadata": {
        "colab": {
          "base_uri": "https://localhost:8080/"
        },
        "id": "QvUWXMS_USam",
        "outputId": "fba6ca90-3df4-48fd-de2b-a2985d9981bb"
      },
      "source": [
        "import time\n",
        "tic=time.time()\n",
        "print(tic)"
      ],
      "execution_count": null,
      "outputs": [
        {
          "output_type": "stream",
          "text": [
            "1606189065.6983893\n"
          ],
          "name": "stdout"
        }
      ]
    },
    {
      "cell_type": "code",
      "metadata": {
        "colab": {
          "base_uri": "https://localhost:8080/"
        },
        "id": "vEpKlDE3VCSz",
        "outputId": "f942c2f6-3018-4fca-b64f-dd1f4f218c3c"
      },
      "source": [
        "toc=time.time()\n",
        "print('Time difference in seconds ',toc-tic)"
      ],
      "execution_count": null,
      "outputs": [
        {
          "output_type": "stream",
          "text": [
            "Time difference in seconds  64.66570925712585\n"
          ],
          "name": "stdout"
        }
      ]
    },
    {
      "cell_type": "markdown",
      "metadata": {
        "id": "ssRGX_TVWIFc"
      },
      "source": [
        "# Sets\n"
      ]
    },
    {
      "cell_type": "code",
      "metadata": {
        "colab": {
          "base_uri": "https://localhost:8080/"
        },
        "id": "6Q8dxnhwWOad",
        "outputId": "583f2caa-f755-43e0-dd0b-63ed531ab9ab"
      },
      "source": [
        "my_set=('Debdeep','M.Tech','30')\n",
        "print(my_set)"
      ],
      "execution_count": null,
      "outputs": [
        {
          "output_type": "stream",
          "text": [
            "('Debdeep', 'M.Tech', '30')\n"
          ],
          "name": "stdout"
        }
      ]
    },
    {
      "cell_type": "code",
      "metadata": {
        "colab": {
          "base_uri": "https://localhost:8080/"
        },
        "id": "vgV_V9I-Wbki",
        "outputId": "ee21cf40-3b8c-4d69-b72a-0f537861bfa9"
      },
      "source": [
        "print(my_set.count)"
      ],
      "execution_count": null,
      "outputs": [
        {
          "output_type": "stream",
          "text": [
            "<built-in method count of tuple object at 0x7f1cf183bc60>\n"
          ],
          "name": "stdout"
        }
      ]
    },
    {
      "cell_type": "code",
      "metadata": {
        "colab": {
          "base_uri": "https://localhost:8080/"
        },
        "id": "hR6u7f8RWjS-",
        "outputId": "88f86b8b-1345-4c4e-9e36-165df38a014e"
      },
      "source": [
        "my_set.index('30')"
      ],
      "execution_count": null,
      "outputs": [
        {
          "output_type": "execute_result",
          "data": {
            "text/plain": [
              "2"
            ]
          },
          "metadata": {
            "tags": []
          },
          "execution_count": 19
        }
      ]
    },
    {
      "cell_type": "code",
      "metadata": {
        "colab": {
          "base_uri": "https://localhost:8080/"
        },
        "id": "6jd_l5VSXioS",
        "outputId": "9a71f730-df81-4b79-cac6-001a73fd41ca"
      },
      "source": [
        "my_set.count('30')"
      ],
      "execution_count": null,
      "outputs": [
        {
          "output_type": "execute_result",
          "data": {
            "text/plain": [
              "1"
            ]
          },
          "metadata": {
            "tags": []
          },
          "execution_count": 20
        }
      ]
    },
    {
      "cell_type": "markdown",
      "metadata": {
        "id": "ohsI0JKFYAZ-"
      },
      "source": [
        "# Dictionary"
      ]
    },
    {
      "cell_type": "code",
      "metadata": {
        "colab": {
          "base_uri": "https://localhost:8080/"
        },
        "id": "ulo_VBbQYCjn",
        "outputId": "43c49d65-6d13-453f-b6b8-c8db8dbc3740"
      },
      "source": [
        "my_phone_dict={}\n",
        "type(my_phone_dict)"
      ],
      "execution_count": null,
      "outputs": [
        {
          "output_type": "execute_result",
          "data": {
            "text/plain": [
              "dict"
            ]
          },
          "metadata": {
            "tags": []
          },
          "execution_count": 21
        }
      ]
    },
    {
      "cell_type": "code",
      "metadata": {
        "colab": {
          "base_uri": "https://localhost:8080/"
        },
        "id": "fQsWVnWHYJzz",
        "outputId": "2071de46-f413-4a96-fe79-1baa919213d7"
      },
      "source": [
        "my_phone_dict={\n",
        "    'name':'iPhone-5s',\n",
        "    'is_android':False,\n",
        "    'price':50000,\n",
        "    'screen_size':5.5,\n",
        "    'other':['It is superb','Debdeep is the owner']\n",
        "}\n",
        "\n",
        "print(my_phone_dict)"
      ],
      "execution_count": null,
      "outputs": [
        {
          "output_type": "stream",
          "text": [
            "{'name': 'iPhone-5s', 'is_android': False, 'price': 50000, 'screen_size': 5.5, 'other': ['It is superb', 'Debdeep is the owner']}\n"
          ],
          "name": "stdout"
        }
      ]
    },
    {
      "cell_type": "code",
      "metadata": {
        "id": "-V9bKPv4bAP3"
      },
      "source": [
        "my_phone_dict['value_for_money']=True"
      ],
      "execution_count": null,
      "outputs": []
    },
    {
      "cell_type": "code",
      "metadata": {
        "colab": {
          "base_uri": "https://localhost:8080/"
        },
        "id": "B_QOO7uJb3Ov",
        "outputId": "3bfdada1-5a82-4024-bbc0-562f19d73c9e"
      },
      "source": [
        "print(my_phone_dict)"
      ],
      "execution_count": null,
      "outputs": [
        {
          "output_type": "stream",
          "text": [
            "{'name': 'iPhone-5s', 'is_android': False, 'price': 50000, 'screen_size': 5.5, 'other': ['It is superb', 'Debdeep is the owner'], 'value_for_money': True}\n"
          ],
          "name": "stdout"
        }
      ]
    },
    {
      "cell_type": "code",
      "metadata": {
        "colab": {
          "base_uri": "https://localhost:8080/"
        },
        "id": "sUY1mmsLb6wM",
        "outputId": "202ca138-9042-48f9-b3ce-72756afdc48c"
      },
      "source": [
        "my_phone_dict['other']"
      ],
      "execution_count": null,
      "outputs": [
        {
          "output_type": "execute_result",
          "data": {
            "text/plain": [
              "['It is superb', 'Debdeep is the owner']"
            ]
          },
          "metadata": {
            "tags": []
          },
          "execution_count": 33
        }
      ]
    },
    {
      "cell_type": "code",
      "metadata": {
        "colab": {
          "base_uri": "https://localhost:8080/"
        },
        "id": "ekfNyLQlcE9c",
        "outputId": "c0281d18-b447-4884-9832-8f4b76cac9f6"
      },
      "source": [
        "my_phone_dict.keys()"
      ],
      "execution_count": null,
      "outputs": [
        {
          "output_type": "execute_result",
          "data": {
            "text/plain": [
              "dict_items([('name', 'iPhone-5s'), ('is_android', False), ('price', 50000), ('screen_size', 5.5), ('other', ['It is superb', 'Debdeep is the owner']), ('value_for_money', True)])"
            ]
          },
          "metadata": {
            "tags": []
          },
          "execution_count": 36
        }
      ]
    },
    {
      "cell_type": "code",
      "metadata": {
        "colab": {
          "base_uri": "https://localhost:8080/"
        },
        "id": "yoN3XD4acd9D",
        "outputId": "10960eed-f69b-46c0-ec09-72a0551585dc"
      },
      "source": [
        "my_phone_dict.items()"
      ],
      "execution_count": null,
      "outputs": [
        {
          "output_type": "execute_result",
          "data": {
            "text/plain": [
              "dict_items([('name', 'iPhone-5s'), ('is_android', False), ('price', 50000), ('screen_size', 5.5), ('other', ['It is superb', 'Debdeep is the owner']), ('value_for_money', True)])"
            ]
          },
          "metadata": {
            "tags": []
          },
          "execution_count": 37
        }
      ]
    },
    {
      "cell_type": "code",
      "metadata": {
        "colab": {
          "base_uri": "https://localhost:8080/"
        },
        "id": "MDNTXdHocN5A",
        "outputId": "52bebdbe-df8e-44a6-f0d1-b5da7026c4c8"
      },
      "source": [
        "my_phone_dict.values()"
      ],
      "execution_count": null,
      "outputs": [
        {
          "output_type": "execute_result",
          "data": {
            "text/plain": [
              "dict_values(['iPhone-5s', False, 50000, 5.5, ['It is superb', 'Debdeep is the owner'], True])"
            ]
          },
          "metadata": {
            "tags": []
          },
          "execution_count": 35
        }
      ]
    },
    {
      "cell_type": "code",
      "metadata": {
        "colab": {
          "base_uri": "https://localhost:8080/"
        },
        "id": "svgog_hmcSLs",
        "outputId": "27d05116-20e7-4af4-d858-d04d970a0504"
      },
      "source": [
        "for key in my_phone_dict.keys():\n",
        "  print(key,' = ',my_phone_dict[key])"
      ],
      "execution_count": null,
      "outputs": [
        {
          "output_type": "stream",
          "text": [
            "name  =  iPhone-5s\n",
            "is_android  =  False\n",
            "price  =  50000\n",
            "screen_size  =  5.5\n",
            "other  =  ['It is superb', 'Debdeep is the owner']\n",
            "value_for_money  =  True\n"
          ],
          "name": "stdout"
        }
      ]
    },
    {
      "cell_type": "code",
      "metadata": {
        "id": "MWPXDbBfczYU"
      },
      "source": [
        ""
      ],
      "execution_count": null,
      "outputs": []
    },
    {
      "cell_type": "markdown",
      "metadata": {
        "id": "PgefPM0wSsEX"
      },
      "source": [
        "# Python Packages"
      ]
    },
    {
      "cell_type": "code",
      "metadata": {
        "colab": {
          "base_uri": "https://localhost:8080/"
        },
        "id": "ITp6Sq5rSy05",
        "outputId": "47bd9981-6a7b-4244-d790-a9eab5b16e7c"
      },
      "source": [
        "import math\n",
        "a=math.sqrt(100)\n",
        "print(a)\n",
        "print(math.sqrt(1000))"
      ],
      "execution_count": null,
      "outputs": [
        {
          "output_type": "stream",
          "text": [
            "10.0\n",
            "31.622776601683793\n"
          ],
          "name": "stdout"
        }
      ]
    },
    {
      "cell_type": "code",
      "metadata": {
        "colab": {
          "base_uri": "https://localhost:8080/"
        },
        "id": "__NQcuGnS6iy",
        "outputId": "60f2e828-80bc-498d-9291-475295b2c6b3"
      },
      "source": [
        "print(math.pow(2,10))"
      ],
      "execution_count": null,
      "outputs": [
        {
          "output_type": "stream",
          "text": [
            "1024.0\n"
          ],
          "name": "stdout"
        }
      ]
    },
    {
      "cell_type": "code",
      "metadata": {
        "colab": {
          "base_uri": "https://localhost:8080/"
        },
        "id": "T2JwVDIQTWou",
        "outputId": "2eac4650-9ccd-405a-8947-00813e302979"
      },
      "source": [
        "import math as m\n",
        "print(m.factorial(10))"
      ],
      "execution_count": null,
      "outputs": [
        {
          "output_type": "stream",
          "text": [
            "3628800\n"
          ],
          "name": "stdout"
        }
      ]
    },
    {
      "cell_type": "code",
      "metadata": {
        "colab": {
          "base_uri": "https://localhost:8080/"
        },
        "id": "xBCnt5-eTxRM",
        "outputId": "2eea3c9c-761a-48bd-e150-972461bc708d"
      },
      "source": [
        "from math import factorial\n",
        "print(factorial(5))"
      ],
      "execution_count": null,
      "outputs": [
        {
          "output_type": "stream",
          "text": [
            "120\n"
          ],
          "name": "stdout"
        }
      ]
    },
    {
      "cell_type": "code",
      "metadata": {
        "id": "MxB5dIYyT2Lo"
      },
      "source": [
        ""
      ],
      "execution_count": null,
      "outputs": []
    },
    {
      "cell_type": "markdown",
      "metadata": {
        "id": "IDJ_4pIzdvK3"
      },
      "source": [
        "# User defined Package"
      ]
    },
    {
      "cell_type": "code",
      "metadata": {
        "id": "bn6j7iIgd1KG"
      },
      "source": [
        "!touch my_first_module.py"
      ],
      "execution_count": null,
      "outputs": []
    },
    {
      "cell_type": "code",
      "metadata": {
        "id": "BwPpOg2md-nz"
      },
      "source": [
        "!echo '# this is my own module' >> my_first_module.py"
      ],
      "execution_count": null,
      "outputs": []
    },
    {
      "cell_type": "code",
      "metadata": {
        "colab": {
          "base_uri": "https://localhost:8080/"
        },
        "id": "ydZQu4MreRnm",
        "outputId": "6ea3e6e5-e8d6-4b37-d5c1-fd2ea88fd2c3"
      },
      "source": [
        "!cat my_first_module.py"
      ],
      "execution_count": null,
      "outputs": [
        {
          "output_type": "stream",
          "text": [
            "\n",
            "# this is my own module\n"
          ],
          "name": "stdout"
        }
      ]
    },
    {
      "cell_type": "code",
      "metadata": {
        "id": "nU-s6A7peVxt"
      },
      "source": [
        "!echo '# this is my own module'>my_first_module.py\n",
        "!echo 'def display():' >>my_first_module.py\n",
        "!echo '    print(\"This is created by Debdeep\")'>>my_first_module.py"
      ],
      "execution_count": null,
      "outputs": []
    },
    {
      "cell_type": "code",
      "metadata": {
        "colab": {
          "base_uri": "https://localhost:8080/"
        },
        "id": "WaXexUsKe1x5",
        "outputId": "e012853a-77cc-4e99-961b-80b6891d6b6c"
      },
      "source": [
        "!cat my_first_module.py"
      ],
      "execution_count": null,
      "outputs": [
        {
          "output_type": "stream",
          "text": [
            "# this is my own module\n",
            "def display():\n",
            "    print(\"This is created by Debdeep\")\n"
          ],
          "name": "stdout"
        }
      ]
    },
    {
      "cell_type": "code",
      "metadata": {
        "colab": {
          "base_uri": "https://localhost:8080/"
        },
        "id": "r_JdnxTie7F0",
        "outputId": "b3f1fd65-0dc5-41d9-f749-a341b384d4ef"
      },
      "source": [
        "import my_first_module as mfm\n",
        "mfm.display()"
      ],
      "execution_count": null,
      "outputs": [
        {
          "output_type": "stream",
          "text": [
            "This is created by Debdeep\n"
          ],
          "name": "stdout"
        }
      ]
    },
    {
      "cell_type": "code",
      "metadata": {
        "colab": {
          "base_uri": "https://localhost:8080/"
        },
        "id": "TJsnPRPOfDno",
        "outputId": "265a9a06-96e1-445d-81ea-fabdfea968fb"
      },
      "source": [
        "from my_first_module import display\n",
        "display()"
      ],
      "execution_count": null,
      "outputs": [
        {
          "output_type": "stream",
          "text": [
            "This is created by Debdeep\n"
          ],
          "name": "stdout"
        }
      ]
    },
    {
      "cell_type": "code",
      "metadata": {
        "colab": {
          "base_uri": "https://localhost:8080/"
        },
        "id": "6xUTJHvcfl6-",
        "outputId": "06152219-4390-4833-9147-328e26e2f4c1"
      },
      "source": [
        "from my_first_module import display as output\n",
        "output()"
      ],
      "execution_count": null,
      "outputs": [
        {
          "output_type": "stream",
          "text": [
            "This is created by Debdeep\n"
          ],
          "name": "stdout"
        }
      ]
    },
    {
      "cell_type": "markdown",
      "metadata": {
        "id": "YnF4rYIoiAp_"
      },
      "source": [
        "# **File Handling**"
      ]
    },
    {
      "cell_type": "code",
      "metadata": {
        "colab": {
          "base_uri": "https://localhost:8080/"
        },
        "id": "GmX0mRoYiEey",
        "outputId": "98c4acbc-dfa2-491c-d6e7-bd44b8e73af2"
      },
      "source": [
        "!ls "
      ],
      "execution_count": null,
      "outputs": [
        {
          "output_type": "stream",
          "text": [
            "sample_data\n"
          ],
          "name": "stdout"
        }
      ]
    },
    {
      "cell_type": "code",
      "metadata": {
        "colab": {
          "base_uri": "https://localhost:8080/"
        },
        "id": "JV_VHL31oImD",
        "outputId": "417346ae-3292-4038-80c5-5bfde2bb4433"
      },
      "source": [
        "!ls"
      ],
      "execution_count": null,
      "outputs": [
        {
          "output_type": "stream",
          "text": [
            "sample_data  Test.txt\n"
          ],
          "name": "stdout"
        }
      ]
    },
    {
      "cell_type": "code",
      "metadata": {
        "id": "ATcMp64wpL4n",
        "colab": {
          "base_uri": "https://localhost:8080/"
        },
        "outputId": "f3218376-e0e6-49c8-d787-ac4834a8b158"
      },
      "source": [
        "file=open('Test.txt','r')\n",
        "s=file.readline()\n",
        "print(s)"
      ],
      "execution_count": null,
      "outputs": [
        {
          "output_type": "stream",
          "text": [
            "I am Debdeep\tDev\n",
            "\n"
          ],
          "name": "stdout"
        }
      ]
    },
    {
      "cell_type": "code",
      "metadata": {
        "colab": {
          "base_uri": "https://localhost:8080/"
        },
        "id": "u6cOX-MWrn_C",
        "outputId": "c1f50dde-16da-4c5a-9f28-78e613ef60dc"
      },
      "source": [
        "print(s.split('\\t'))"
      ],
      "execution_count": null,
      "outputs": [
        {
          "output_type": "stream",
          "text": [
            "['I am Debdeep', 'Dev\\n']\n"
          ],
          "name": "stdout"
        }
      ]
    },
    {
      "cell_type": "code",
      "metadata": {
        "colab": {
          "base_uri": "https://localhost:8080/"
        },
        "id": "gN7sgPa8r105",
        "outputId": "78a92cf5-2426-45f9-d5eb-969d1f1450b8"
      },
      "source": [
        "print(s.split(' '))"
      ],
      "execution_count": null,
      "outputs": [
        {
          "output_type": "stream",
          "text": [
            "['I', 'am', 'Debdeep\\tDev\\n']\n"
          ],
          "name": "stdout"
        }
      ]
    },
    {
      "cell_type": "code",
      "metadata": {
        "id": "Cw2TB3Edr7FQ"
      },
      "source": [
        "file.close()"
      ],
      "execution_count": null,
      "outputs": []
    },
    {
      "cell_type": "code",
      "metadata": {
        "colab": {
          "base_uri": "https://localhost:8080/",
          "height": 163
        },
        "id": "5FrHChf8sH6S",
        "outputId": "bd62757a-71b8-46f3-a2c5-cca14679a4c8"
      },
      "source": [
        "print(file.readline())"
      ],
      "execution_count": null,
      "outputs": [
        {
          "output_type": "error",
          "ename": "ValueError",
          "evalue": "ignored",
          "traceback": [
            "\u001b[0;31m---------------------------------------------------------------------------\u001b[0m",
            "\u001b[0;31mValueError\u001b[0m                                Traceback (most recent call last)",
            "\u001b[0;32m<ipython-input-10-442e659fd7bf>\u001b[0m in \u001b[0;36m<module>\u001b[0;34m()\u001b[0m\n\u001b[0;32m----> 1\u001b[0;31m \u001b[0mprint\u001b[0m\u001b[0;34m(\u001b[0m\u001b[0mfile\u001b[0m\u001b[0;34m.\u001b[0m\u001b[0mreadline\u001b[0m\u001b[0;34m(\u001b[0m\u001b[0;34m)\u001b[0m\u001b[0;34m)\u001b[0m\u001b[0;34m\u001b[0m\u001b[0;34m\u001b[0m\u001b[0m\n\u001b[0m",
            "\u001b[0;31mValueError\u001b[0m: I/O operation on closed file."
          ]
        }
      ]
    },
    {
      "cell_type": "code",
      "metadata": {
        "colab": {
          "base_uri": "https://localhost:8080/"
        },
        "id": "Zz0uMUOGsL8m",
        "outputId": "de0ede2f-603c-4ba1-a8b2-fb462c10c9e8"
      },
      "source": [
        "with open('Test.txt','r') as file:\n",
        "  print(file.readlines())"
      ],
      "execution_count": null,
      "outputs": [
        {
          "output_type": "stream",
          "text": [
            "['I am Debdeep\\tDev\\n', 'Yu are \\tSunny']\n"
          ],
          "name": "stdout"
        }
      ]
    },
    {
      "cell_type": "code",
      "metadata": {
        "colab": {
          "base_uri": "https://localhost:8080/",
          "height": 163
        },
        "id": "n49V2tu4sgYr",
        "outputId": "5bfdc2b1-24b9-4214-eac9-dabbeff90fb4"
      },
      "source": [
        "file.readline()"
      ],
      "execution_count": null,
      "outputs": [
        {
          "output_type": "error",
          "ename": "ValueError",
          "evalue": "ignored",
          "traceback": [
            "\u001b[0;31m---------------------------------------------------------------------------\u001b[0m",
            "\u001b[0;31mValueError\u001b[0m                                Traceback (most recent call last)",
            "\u001b[0;32m<ipython-input-12-1ba352a1fd91>\u001b[0m in \u001b[0;36m<module>\u001b[0;34m()\u001b[0m\n\u001b[0;32m----> 1\u001b[0;31m \u001b[0mfile\u001b[0m\u001b[0;34m.\u001b[0m\u001b[0mreadline\u001b[0m\u001b[0;34m(\u001b[0m\u001b[0;34m)\u001b[0m\u001b[0;34m\u001b[0m\u001b[0;34m\u001b[0m\u001b[0m\n\u001b[0m",
            "\u001b[0;31mValueError\u001b[0m: I/O operation on closed file."
          ]
        }
      ]
    },
    {
      "cell_type": "code",
      "metadata": {
        "colab": {
          "base_uri": "https://localhost:8080/"
        },
        "id": "-2p9snlfsjul",
        "outputId": "d56d911f-0e5f-46c5-d7e2-75c4915091c2"
      },
      "source": [
        "with open('Test.txt','r') as file:\n",
        "  print(file.read())"
      ],
      "execution_count": null,
      "outputs": [
        {
          "output_type": "stream",
          "text": [
            "I am Debdeep\tDev\n",
            "Yu are \tSunny\n"
          ],
          "name": "stdout"
        }
      ]
    },
    {
      "cell_type": "code",
      "metadata": {
        "colab": {
          "base_uri": "https://localhost:8080/"
        },
        "id": "dWhuxbyntILr",
        "outputId": "39332539-5d14-44aa-9f27-71c30ea3122a"
      },
      "source": [
        "with open('Test.txt','r') as file:\n",
        "  for line in file:\n",
        "    print(line)"
      ],
      "execution_count": null,
      "outputs": [
        {
          "output_type": "stream",
          "text": [
            "I am Debdeep\tDev\n",
            "\n",
            "Yu are \tSunny\n"
          ],
          "name": "stdout"
        }
      ]
    },
    {
      "cell_type": "markdown",
      "metadata": {
        "id": "gqNSp8WftoDz"
      },
      "source": [
        "File Wriiting"
      ]
    },
    {
      "cell_type": "code",
      "metadata": {
        "colab": {
          "base_uri": "https://localhost:8080/"
        },
        "id": "Muk7q2tUtPha",
        "outputId": "c8711af2-c65b-4f18-b60e-5c98a3de10e2"
      },
      "source": [
        "file=open('Test_write.txt','w')\n",
        "file.write('Hi this is written from the program')"
      ],
      "execution_count": null,
      "outputs": [
        {
          "output_type": "execute_result",
          "data": {
            "text/plain": [
              "35"
            ]
          },
          "metadata": {
            "tags": []
          },
          "execution_count": 33
        }
      ]
    },
    {
      "cell_type": "code",
      "metadata": {
        "colab": {
          "base_uri": "https://localhost:8080/"
        },
        "id": "F5m3zIhYt56c",
        "outputId": "a4f1fff4-0b56-472d-899b-cbcec0974f00"
      },
      "source": [
        "!cat Test_write.txt"
      ],
      "execution_count": null,
      "outputs": [
        {
          "output_type": "stream",
          "text": [
            "Hi this is written from the program"
          ],
          "name": "stdout"
        }
      ]
    },
    {
      "cell_type": "code",
      "metadata": {
        "colab": {
          "base_uri": "https://localhost:8080/"
        },
        "id": "6lAcLiUsuBYY",
        "outputId": "eee167a4-a49a-48a7-cf13-5e6310c52130"
      },
      "source": [
        "file=open('Test_write.txt','a')\n",
        "file.write('\\nHi this is another line written from the program')"
      ],
      "execution_count": null,
      "outputs": [
        {
          "output_type": "execute_result",
          "data": {
            "text/plain": [
              "49"
            ]
          },
          "metadata": {
            "tags": []
          },
          "execution_count": 35
        }
      ]
    },
    {
      "cell_type": "code",
      "metadata": {
        "colab": {
          "base_uri": "https://localhost:8080/"
        },
        "id": "HYKPNA7WuQJp",
        "outputId": "6447d4d1-7efe-42ff-964e-763be6aa684f"
      },
      "source": [
        "!cat Test_write.txt"
      ],
      "execution_count": null,
      "outputs": [
        {
          "output_type": "stream",
          "text": [
            "Hi this is written from the program"
          ],
          "name": "stdout"
        }
      ]
    },
    {
      "cell_type": "code",
      "metadata": {
        "id": "UibFyBBPuS58"
      },
      "source": [
        "file.close()"
      ],
      "execution_count": null,
      "outputs": []
    },
    {
      "cell_type": "code",
      "metadata": {
        "colab": {
          "base_uri": "https://localhost:8080/"
        },
        "id": "R82juTGJuf3_",
        "outputId": "d7aa3c62-fb51-4cc0-d606-df715aa98302"
      },
      "source": [
        "!python --version"
      ],
      "execution_count": null,
      "outputs": [
        {
          "output_type": "stream",
          "text": [
            "Python 3.6.9\n"
          ],
          "name": "stdout"
        }
      ]
    },
    {
      "cell_type": "markdown",
      "metadata": {
        "id": "-YViIWDNvhQb"
      },
      "source": [
        "#**Class in Python**"
      ]
    },
    {
      "cell_type": "code",
      "metadata": {
        "id": "AyDr2VtTvjqV"
      },
      "source": [
        "class MobilePhone:\n",
        "  def __init__(self):\n",
        "    print('Object creation is successful')\n",
        "\n",
        "  def __init__(self,name):\n",
        "    self.name=name\n",
        "    print(name)\n",
        "    print(self.name)\n",
        "    name=\"You\"\n",
        "    print(name)\n",
        "    print(self.name)\n",
        "\n",
        "  def __init__(self,name,price):\n",
        "    self.name=name\n",
        "    self.price=price\n",
        "    print(self.name)\n",
        "    print(self.price)\n"
      ],
      "execution_count": null,
      "outputs": []
    },
    {
      "cell_type": "code",
      "metadata": {
        "colab": {
          "base_uri": "https://localhost:8080/",
          "height": 163
        },
        "id": "IDmp1uYpwVvQ",
        "outputId": "b050741c-4fee-4b61-e2fe-32d9ad662075"
      },
      "source": [
        "new_phone=MobilePhone()"
      ],
      "execution_count": null,
      "outputs": [
        {
          "output_type": "error",
          "ename": "TypeError",
          "evalue": "ignored",
          "traceback": [
            "\u001b[0;31m---------------------------------------------------------------------------\u001b[0m",
            "\u001b[0;31mTypeError\u001b[0m                                 Traceback (most recent call last)",
            "\u001b[0;32m<ipython-input-65-7ed98d08acd6>\u001b[0m in \u001b[0;36m<module>\u001b[0;34m()\u001b[0m\n\u001b[0;32m----> 1\u001b[0;31m \u001b[0mnew_phone\u001b[0m\u001b[0;34m=\u001b[0m\u001b[0mMobilePhone\u001b[0m\u001b[0;34m(\u001b[0m\u001b[0;34m)\u001b[0m\u001b[0;34m\u001b[0m\u001b[0;34m\u001b[0m\u001b[0m\n\u001b[0m",
            "\u001b[0;31mTypeError\u001b[0m: __init__() missing 2 required positional arguments: 'name' and 'price'"
          ]
        }
      ]
    },
    {
      "cell_type": "code",
      "metadata": {
        "colab": {
          "base_uri": "https://localhost:8080/"
        },
        "id": "-BZHzHLGwab_",
        "outputId": "d6309eb0-294f-47aa-ab65-1698ee23af19"
      },
      "source": [
        "type(new_phone)"
      ],
      "execution_count": null,
      "outputs": [
        {
          "output_type": "execute_result",
          "data": {
            "text/plain": [
              "__main__.MobilePhone"
            ]
          },
          "metadata": {
            "tags": []
          },
          "execution_count": 55
        }
      ]
    },
    {
      "cell_type": "code",
      "metadata": {
        "colab": {
          "base_uri": "https://localhost:8080/",
          "height": 163
        },
        "id": "zf-d-eejwf0b",
        "outputId": "0e20286e-892e-41d7-9de5-1906487248c5"
      },
      "source": [
        "new_phone2=MobilePhone(\"iPhone 6s\")"
      ],
      "execution_count": null,
      "outputs": [
        {
          "output_type": "error",
          "ename": "TypeError",
          "evalue": "ignored",
          "traceback": [
            "\u001b[0;31m---------------------------------------------------------------------------\u001b[0m",
            "\u001b[0;31mTypeError\u001b[0m                                 Traceback (most recent call last)",
            "\u001b[0;32m<ipython-input-66-190f64c56b16>\u001b[0m in \u001b[0;36m<module>\u001b[0;34m()\u001b[0m\n\u001b[0;32m----> 1\u001b[0;31m \u001b[0mnew_phone2\u001b[0m\u001b[0;34m=\u001b[0m\u001b[0mMobilePhone\u001b[0m\u001b[0;34m(\u001b[0m\u001b[0;34m\"iPhone 6s\"\u001b[0m\u001b[0;34m)\u001b[0m\u001b[0;34m\u001b[0m\u001b[0;34m\u001b[0m\u001b[0m\n\u001b[0m",
            "\u001b[0;31mTypeError\u001b[0m: __init__() missing 1 required positional argument: 'price'"
          ]
        }
      ]
    },
    {
      "cell_type": "markdown",
      "metadata": {
        "id": "rmftpi8XQCZF"
      },
      "source": [
        "#**NumPy**"
      ]
    },
    {
      "cell_type": "code",
      "metadata": {
        "id": "6afE30Lbw9un"
      },
      "source": [
        "import numpy as np"
      ],
      "execution_count": 1,
      "outputs": []
    },
    {
      "cell_type": "code",
      "metadata": {
        "id": "sfNDzr1DQTuX"
      },
      "source": [
        "x=np.array([1,2,3])"
      ],
      "execution_count": null,
      "outputs": []
    },
    {
      "cell_type": "code",
      "metadata": {
        "colab": {
          "base_uri": "https://localhost:8080/"
        },
        "id": "8NTYhHw9QbL6",
        "outputId": "6ea58c53-321c-49e4-a92b-62fb165007cb"
      },
      "source": [
        "print(x)"
      ],
      "execution_count": null,
      "outputs": [
        {
          "output_type": "stream",
          "text": [
            "[1 2 3]\n"
          ],
          "name": "stdout"
        }
      ]
    },
    {
      "cell_type": "code",
      "metadata": {
        "colab": {
          "base_uri": "https://localhost:8080/"
        },
        "id": "hvbB7xsGQckT",
        "outputId": "73b97dc0-0143-4b69-effc-6af7667bff8f"
      },
      "source": [
        "type(x)"
      ],
      "execution_count": null,
      "outputs": [
        {
          "output_type": "execute_result",
          "data": {
            "text/plain": [
              "numpy.ndarray"
            ]
          },
          "metadata": {
            "tags": []
          },
          "execution_count": 70
        }
      ]
    },
    {
      "cell_type": "code",
      "metadata": {
        "colab": {
          "base_uri": "https://localhost:8080/"
        },
        "id": "LAicM4MZQfhv",
        "outputId": "ef82b19c-9680-4ecd-f653-b3a0319a45f9"
      },
      "source": [
        "x[2]=10\n",
        "print(x)"
      ],
      "execution_count": null,
      "outputs": [
        {
          "output_type": "stream",
          "text": [
            "[ 1  2 10]\n"
          ],
          "name": "stdout"
        }
      ]
    },
    {
      "cell_type": "code",
      "metadata": {
        "colab": {
          "base_uri": "https://localhost:8080/",
          "height": 163
        },
        "id": "bZp4kV2-QmRg",
        "outputId": "188da14c-f0a8-4c1c-cc73-0ccf09aacbd0"
      },
      "source": [
        "x[5]=100"
      ],
      "execution_count": null,
      "outputs": [
        {
          "output_type": "error",
          "ename": "IndexError",
          "evalue": "ignored",
          "traceback": [
            "\u001b[0;31m---------------------------------------------------------------------------\u001b[0m",
            "\u001b[0;31mIndexError\u001b[0m                                Traceback (most recent call last)",
            "\u001b[0;32m<ipython-input-72-0b94b45e17d8>\u001b[0m in \u001b[0;36m<module>\u001b[0;34m()\u001b[0m\n\u001b[0;32m----> 1\u001b[0;31m \u001b[0mx\u001b[0m\u001b[0;34m[\u001b[0m\u001b[0;36m5\u001b[0m\u001b[0;34m]\u001b[0m\u001b[0;34m=\u001b[0m\u001b[0;36m100\u001b[0m\u001b[0;34m\u001b[0m\u001b[0;34m\u001b[0m\u001b[0m\n\u001b[0m",
            "\u001b[0;31mIndexError\u001b[0m: index 5 is out of bounds for axis 0 with size 3"
          ]
        }
      ]
    },
    {
      "cell_type": "code",
      "metadata": {
        "colab": {
          "base_uri": "https://localhost:8080/"
        },
        "id": "iT3i4eZMQrf7",
        "outputId": "6477f89b-a820-49cf-c2fb-800451b5b256"
      },
      "source": [
        "l=[1,2,3]\n",
        "type(l)"
      ],
      "execution_count": null,
      "outputs": [
        {
          "output_type": "execute_result",
          "data": {
            "text/plain": [
              "list"
            ]
          },
          "metadata": {
            "tags": []
          },
          "execution_count": 77
        }
      ]
    },
    {
      "cell_type": "code",
      "metadata": {
        "colab": {
          "base_uri": "https://localhost:8080/"
        },
        "id": "C6Qwo6A_Qupr",
        "outputId": "9be4df5d-2993-46f8-fab1-eb39d22b4d9c"
      },
      "source": [
        "x=np.asarray(l)\n",
        "type(x)"
      ],
      "execution_count": null,
      "outputs": [
        {
          "output_type": "execute_result",
          "data": {
            "text/plain": [
              "numpy.ndarray"
            ]
          },
          "metadata": {
            "tags": []
          },
          "execution_count": 78
        }
      ]
    },
    {
      "cell_type": "code",
      "metadata": {
        "colab": {
          "base_uri": "https://localhost:8080/"
        },
        "id": "XcLz585cROxY",
        "outputId": "e2a1a23e-09eb-4425-cccf-3e181a9a818a"
      },
      "source": [
        "x=np.asarray(l,float)\n",
        "type(x)"
      ],
      "execution_count": null,
      "outputs": [
        {
          "output_type": "execute_result",
          "data": {
            "text/plain": [
              "numpy.ndarray"
            ]
          },
          "metadata": {
            "tags": []
          },
          "execution_count": 80
        }
      ]
    },
    {
      "cell_type": "code",
      "metadata": {
        "colab": {
          "base_uri": "https://localhost:8080/"
        },
        "id": "_YqpqbkfRcvh",
        "outputId": "1faacec7-e638-4eee-a73a-7513d693bba7"
      },
      "source": [
        "print(x)"
      ],
      "execution_count": null,
      "outputs": [
        {
          "output_type": "stream",
          "text": [
            "[1. 2. 3.]\n"
          ],
          "name": "stdout"
        }
      ]
    },
    {
      "cell_type": "code",
      "metadata": {
        "id": "pIjMndEoRhO-"
      },
      "source": [
        "x=np.array([[1,2,3],[3,4,5]])"
      ],
      "execution_count": null,
      "outputs": []
    },
    {
      "cell_type": "code",
      "metadata": {
        "colab": {
          "base_uri": "https://localhost:8080/"
        },
        "id": "icGXA7hqR292",
        "outputId": "efce2ab3-36d7-4f39-9d88-ee027211b009"
      },
      "source": [
        "print(x)"
      ],
      "execution_count": null,
      "outputs": [
        {
          "output_type": "stream",
          "text": [
            "[[1 2 3]\n",
            " [3 4 5]]\n"
          ],
          "name": "stdout"
        }
      ]
    },
    {
      "cell_type": "code",
      "metadata": {
        "colab": {
          "base_uri": "https://localhost:8080/"
        },
        "id": "7uu-EYDAR4WI",
        "outputId": "e203bf64-a81d-4495-b0d4-282ffeb383ad"
      },
      "source": [
        "x=np.array([[1,2,3],[4,5,6],[7,8,9]])\n",
        "print(x)"
      ],
      "execution_count": null,
      "outputs": [
        {
          "output_type": "stream",
          "text": [
            "[[1 2 3]\n",
            " [4 5 6]\n",
            " [7 8 9]]\n"
          ],
          "name": "stdout"
        }
      ]
    },
    {
      "cell_type": "code",
      "metadata": {
        "colab": {
          "base_uri": "https://localhost:8080/"
        },
        "id": "BaG25OgRSGbv",
        "outputId": "6be650a1-3a82-4573-9d91-74bfd292d41f"
      },
      "source": [
        "x.shape"
      ],
      "execution_count": null,
      "outputs": [
        {
          "output_type": "execute_result",
          "data": {
            "text/plain": [
              "(3, 3)"
            ]
          },
          "metadata": {
            "tags": []
          },
          "execution_count": 85
        }
      ]
    },
    {
      "cell_type": "code",
      "metadata": {
        "id": "4vXCdbEESkid"
      },
      "source": [
        "x=np.zeros((3,4))"
      ],
      "execution_count": null,
      "outputs": []
    },
    {
      "cell_type": "code",
      "metadata": {
        "colab": {
          "base_uri": "https://localhost:8080/"
        },
        "id": "SjtzI69mT5Qb",
        "outputId": "e9dc59e7-1eb1-4589-a194-98323528db05"
      },
      "source": [
        "print(x)"
      ],
      "execution_count": null,
      "outputs": [
        {
          "output_type": "stream",
          "text": [
            "[[0. 0. 0. 0.]\n",
            " [0. 0. 0. 0.]\n",
            " [0. 0. 0. 0.]]\n"
          ],
          "name": "stdout"
        }
      ]
    },
    {
      "cell_type": "code",
      "metadata": {
        "id": "NfEsgoCqUB5B"
      },
      "source": [
        "x=np.eye(3,3)"
      ],
      "execution_count": null,
      "outputs": []
    },
    {
      "cell_type": "code",
      "metadata": {
        "colab": {
          "base_uri": "https://localhost:8080/"
        },
        "id": "qgVoaIHTUHZd",
        "outputId": "2300ea17-1ee4-49c8-c5d4-71a43704c947"
      },
      "source": [
        "print(x)"
      ],
      "execution_count": null,
      "outputs": [
        {
          "output_type": "stream",
          "text": [
            "[[1. 0. 0.]\n",
            " [0. 1. 0.]\n",
            " [0. 0. 1.]]\n"
          ],
          "name": "stdout"
        }
      ]
    },
    {
      "cell_type": "code",
      "metadata": {
        "colab": {
          "base_uri": "https://localhost:8080/"
        },
        "id": "cNYdTbQeUM5Q",
        "outputId": "06c25159-d173-4515-bcb3-4ca604abd1f2"
      },
      "source": [
        "x=np.random.random((4,5))\n",
        "print(x)"
      ],
      "execution_count": null,
      "outputs": [
        {
          "output_type": "stream",
          "text": [
            "[[0.53275416 0.75365784 0.62637924 0.39074473 0.25441645]\n",
            " [0.63998507 0.54537869 0.66929157 0.15731624 0.92050728]\n",
            " [0.24573407 0.10124125 0.25284414 0.9212782  0.48749532]\n",
            " [0.61275625 0.59704281 0.90144478 0.95804898 0.40335242]]\n"
          ],
          "name": "stdout"
        }
      ]
    },
    {
      "cell_type": "code",
      "metadata": {
        "colab": {
          "base_uri": "https://localhost:8080/"
        },
        "id": "NyqifY1nU7Ks",
        "outputId": "bb3a1116-818a-4aba-ddd5-20d8e434019b"
      },
      "source": [
        "z=x.T\n",
        "print('x =\\n',x)\n",
        "print('z =\\n',z)"
      ],
      "execution_count": null,
      "outputs": [
        {
          "output_type": "stream",
          "text": [
            "x =\n",
            " [[27.54161581 36.57837744 63.79239913  7.44725159 44.16453802]\n",
            " [99.85068282 53.78685011 92.91566503 73.16238377  5.07276093]\n",
            " [57.34068926 12.4125063  28.4413966  12.78197502 74.95321847]\n",
            " [27.56254448 70.42814261 14.44777347 80.48984855 33.52415291]]\n",
            "z =\n",
            " [[27.54161581 99.85068282 57.34068926 27.56254448]\n",
            " [36.57837744 53.78685011 12.4125063  70.42814261]\n",
            " [63.79239913 92.91566503 28.4413966  14.44777347]\n",
            " [ 7.44725159 73.16238377 12.78197502 80.48984855]\n",
            " [44.16453802  5.07276093 74.95321847 33.52415291]]\n"
          ],
          "name": "stdout"
        }
      ]
    },
    {
      "cell_type": "code",
      "metadata": {
        "id": "-AIUZjUIVMa2"
      },
      "source": [
        "y=x.reshape(20,1)"
      ],
      "execution_count": null,
      "outputs": []
    },
    {
      "cell_type": "code",
      "metadata": {
        "colab": {
          "base_uri": "https://localhost:8080/"
        },
        "id": "kX80BrDYVYrU",
        "outputId": "4fc05cf7-39b0-4eb6-9853-c9d4ff8d354a"
      },
      "source": [
        "print(y)"
      ],
      "execution_count": null,
      "outputs": [
        {
          "output_type": "stream",
          "text": [
            "[[27.54161581]\n",
            " [36.57837744]\n",
            " [63.79239913]\n",
            " [ 7.44725159]\n",
            " [44.16453802]\n",
            " [99.85068282]\n",
            " [53.78685011]\n",
            " [92.91566503]\n",
            " [73.16238377]\n",
            " [ 5.07276093]\n",
            " [57.34068926]\n",
            " [12.4125063 ]\n",
            " [28.4413966 ]\n",
            " [12.78197502]\n",
            " [74.95321847]\n",
            " [27.56254448]\n",
            " [70.42814261]\n",
            " [14.44777347]\n",
            " [80.48984855]\n",
            " [33.52415291]]\n"
          ],
          "name": "stdout"
        }
      ]
    },
    {
      "cell_type": "code",
      "metadata": {
        "id": "AZ7ND3RGVdr1",
        "colab": {
          "base_uri": "https://localhost:8080/"
        },
        "outputId": "65063ccd-8f5c-4099-c94a-117b2775b0d9"
      },
      "source": [
        "A=np.arange(5)\n",
        "print(A)"
      ],
      "execution_count": 2,
      "outputs": [
        {
          "output_type": "stream",
          "text": [
            "[0 1 2 3 4]\n"
          ],
          "name": "stdout"
        }
      ]
    },
    {
      "cell_type": "code",
      "metadata": {
        "colab": {
          "base_uri": "https://localhost:8080/"
        },
        "id": "dN8XQZkP-8C6",
        "outputId": "74f4c4f6-9192-4e40-c070-9886a892ff71"
      },
      "source": [
        "A=np.arange(1,6)\n",
        "print(A)"
      ],
      "execution_count": 3,
      "outputs": [
        {
          "output_type": "stream",
          "text": [
            "[1 2 3 4 5]\n"
          ],
          "name": "stdout"
        }
      ]
    },
    {
      "cell_type": "code",
      "metadata": {
        "colab": {
          "base_uri": "https://localhost:8080/"
        },
        "id": "rsSEGCr9_Bds",
        "outputId": "3689782f-117d-4a19-ed41-4b0aa1d14704"
      },
      "source": [
        "B=np.arange(1,6)\n",
        "print(B)"
      ],
      "execution_count": 4,
      "outputs": [
        {
          "output_type": "stream",
          "text": [
            "[1 2 3 4 5]\n"
          ],
          "name": "stdout"
        }
      ]
    },
    {
      "cell_type": "code",
      "metadata": {
        "colab": {
          "base_uri": "https://localhost:8080/"
        },
        "id": "_XRegIoS_MC_",
        "outputId": "4bbe3f0d-a288-4ee5-9934-b5cc08108fa4"
      },
      "source": [
        "print(A*B)\n",
        "print(A-B)\n",
        "print(A/B)\n",
        "print(A+B)"
      ],
      "execution_count": 5,
      "outputs": [
        {
          "output_type": "stream",
          "text": [
            "[ 1  4  9 16 25]\n",
            "[0 0 0 0 0]\n",
            "[1. 1. 1. 1. 1.]\n",
            "[ 2  4  6  8 10]\n"
          ],
          "name": "stdout"
        }
      ]
    },
    {
      "cell_type": "code",
      "metadata": {
        "colab": {
          "base_uri": "https://localhost:8080/"
        },
        "id": "28UxRkC2_UtF",
        "outputId": "010af287-21c7-4173-ead3-d4e99abfc579"
      },
      "source": [
        "A=A+1\n",
        "print(A)"
      ],
      "execution_count": 6,
      "outputs": [
        {
          "output_type": "stream",
          "text": [
            "[2 3 4 5 6]\n"
          ],
          "name": "stdout"
        }
      ]
    },
    {
      "cell_type": "code",
      "metadata": {
        "id": "SpGi-S-x_hCK"
      },
      "source": [
        "A=np.random.random((2,3))"
      ],
      "execution_count": 7,
      "outputs": []
    },
    {
      "cell_type": "code",
      "metadata": {
        "colab": {
          "base_uri": "https://localhost:8080/"
        },
        "id": "GmOHxf0k_upB",
        "outputId": "773829fc-1563-4e69-8f8c-ab3a6929b7ad"
      },
      "source": [
        "print(A)"
      ],
      "execution_count": 8,
      "outputs": [
        {
          "output_type": "stream",
          "text": [
            "[[0.76098939 0.59073136 0.20038761]\n",
            " [0.73125426 0.55393949 0.30532016]]\n"
          ],
          "name": "stdout"
        }
      ]
    },
    {
      "cell_type": "code",
      "metadata": {
        "colab": {
          "base_uri": "https://localhost:8080/"
        },
        "id": "9A1HG_dm_wXg",
        "outputId": "0658a239-7a78-48d9-efc4-0803a2e1c724"
      },
      "source": [
        "print(A.T)"
      ],
      "execution_count": 9,
      "outputs": [
        {
          "output_type": "stream",
          "text": [
            "[[0.76098939 0.73125426]\n",
            " [0.59073136 0.55393949]\n",
            " [0.20038761 0.30532016]]\n"
          ],
          "name": "stdout"
        }
      ]
    },
    {
      "cell_type": "code",
      "metadata": {
        "id": "VJsu6RZqAHq-"
      },
      "source": [
        "A=np.floor(np.random.random((2,3))*100)"
      ],
      "execution_count": 15,
      "outputs": []
    },
    {
      "cell_type": "code",
      "metadata": {
        "colab": {
          "base_uri": "https://localhost:8080/"
        },
        "id": "m9OK1z14AoBd",
        "outputId": "00b6e532-79e9-4f2c-e991-c94bb3568760"
      },
      "source": [
        "print(A)"
      ],
      "execution_count": 16,
      "outputs": [
        {
          "output_type": "stream",
          "text": [
            "[[92. 63. 66.]\n",
            " [15. 67. 57.]]\n"
          ],
          "name": "stdout"
        }
      ]
    },
    {
      "cell_type": "code",
      "metadata": {
        "id": "fEyUmhv4ApUG"
      },
      "source": [
        "A=np.floor(np.random.random((2,3))*100)"
      ],
      "execution_count": 17,
      "outputs": []
    },
    {
      "cell_type": "code",
      "metadata": {
        "colab": {
          "base_uri": "https://localhost:8080/"
        },
        "id": "4KhUyfgUEeR0",
        "outputId": "c8cfb3e3-22d4-4d5e-b9e5-3b39ab3152eb"
      },
      "source": [
        "print(A)"
      ],
      "execution_count": 18,
      "outputs": [
        {
          "output_type": "stream",
          "text": [
            "[[13. 16. 89.]\n",
            " [91. 27. 48.]]\n"
          ],
          "name": "stdout"
        }
      ]
    },
    {
      "cell_type": "code",
      "metadata": {
        "colab": {
          "base_uri": "https://localhost:8080/"
        },
        "id": "c92z5UknEf5G",
        "outputId": "3e2da80a-6e6c-4031-80cd-bb843bbc0808"
      },
      "source": [
        "print(A.max())"
      ],
      "execution_count": 20,
      "outputs": [
        {
          "output_type": "stream",
          "text": [
            "91.0\n"
          ],
          "name": "stdout"
        }
      ]
    },
    {
      "cell_type": "code",
      "metadata": {
        "colab": {
          "base_uri": "https://localhost:8080/"
        },
        "id": "3wXhrjcDE-Ok",
        "outputId": "c96bf08f-7b21-4ea8-e29f-a6274ce6b5d5"
      },
      "source": [
        "print(A.min())"
      ],
      "execution_count": 21,
      "outputs": [
        {
          "output_type": "stream",
          "text": [
            "13.0\n"
          ],
          "name": "stdout"
        }
      ]
    },
    {
      "cell_type": "markdown",
      "metadata": {
        "id": "yqglOWp7FUrl"
      },
      "source": [
        "#**Plotting**"
      ]
    },
    {
      "cell_type": "code",
      "metadata": {
        "id": "UXKNp2gsFZPJ"
      },
      "source": [
        "import matplotlib.pyplot as plt"
      ],
      "execution_count": 22,
      "outputs": []
    },
    {
      "cell_type": "code",
      "metadata": {
        "id": "ZpugS-fuFhQD"
      },
      "source": [
        "x=np.random.random((10,1))"
      ],
      "execution_count": 23,
      "outputs": []
    },
    {
      "cell_type": "code",
      "metadata": {
        "colab": {
          "base_uri": "https://localhost:8080/"
        },
        "id": "n1K5LH8WFod7",
        "outputId": "5f696164-c4cb-433e-9015-5cf553a05ba4"
      },
      "source": [
        "print(x)"
      ],
      "execution_count": 24,
      "outputs": [
        {
          "output_type": "stream",
          "text": [
            "[[0.72950402]\n",
            " [0.78473842]\n",
            " [0.2379358 ]\n",
            " [0.14411142]\n",
            " [0.80641684]\n",
            " [0.2316772 ]\n",
            " [0.80296137]\n",
            " [0.60485846]\n",
            " [0.5399282 ]\n",
            " [0.80191395]]\n"
          ],
          "name": "stdout"
        }
      ]
    },
    {
      "cell_type": "code",
      "metadata": {
        "colab": {
          "base_uri": "https://localhost:8080/",
          "height": 282
        },
        "id": "xQPuDnKfFqGU",
        "outputId": "1da983ab-775a-4b95-973a-0d8f4418d8d0"
      },
      "source": [
        "plt.plot(x)"
      ],
      "execution_count": 25,
      "outputs": [
        {
          "output_type": "execute_result",
          "data": {
            "text/plain": [
              "[<matplotlib.lines.Line2D at 0x7f0ab86d4470>]"
            ]
          },
          "metadata": {
            "tags": []
          },
          "execution_count": 25
        },
        {
          "output_type": "display_data",
          "data": {
            "image/png": "[encoded data removed]",
            "text/plain": [
              "<Figure size 432x288 with 1 Axes>"
            ]
          },
          "metadata": {
            "tags": [],
            "needs_background": "light"
          }
        }
      ]
    },
    {
      "cell_type": "code",
      "metadata": {
        "colab": {
          "base_uri": "https://localhost:8080/",
          "height": 282
        },
        "id": "TvK2tOSxFvbX",
        "outputId": "6ddba732-3b1a-49fb-821c-8e01ca757dde"
      },
      "source": [
        "plt.plot(x,'*')"
      ],
      "execution_count": 28,
      "outputs": [
        {
          "output_type": "execute_result",
          "data": {
            "text/plain": [
              "[<matplotlib.lines.Line2D at 0x7f0ab7b5d438>]"
            ]
          },
          "metadata": {
            "tags": []
          },
          "execution_count": 28
        },
        {
          "output_type": "display_data",
          "data": {
            "image/png": "[encoded data removed]",
            "text/plain": [
              "<Figure size 432x288 with 1 Axes>"
            ]
          },
          "metadata": {
            "tags": [],
            "needs_background": "light"
          }
        }
      ]
    },
    {
      "cell_type": "code",
      "metadata": {
        "colab": {
          "base_uri": "https://localhost:8080/",
          "height": 282
        },
        "id": "uNmc0RQaFy0d",
        "outputId": "3637a845-16d6-439c-ae63-9e5eb1956d8b"
      },
      "source": [
        "plt.plot(x,'*-')"
      ],
      "execution_count": 29,
      "outputs": [
        {
          "output_type": "execute_result",
          "data": {
            "text/plain": [
              "[<matplotlib.lines.Line2D at 0x7f0ab7aca908>]"
            ]
          },
          "metadata": {
            "tags": []
          },
          "execution_count": 29
        },
        {
          "output_type": "display_data",
          "data": {
            "image/png": "[encoded data removed]",
            "text/plain": [
              "<Figure size 432x288 with 1 Axes>"
            ]
          },
          "metadata": {
            "tags": [],
            "needs_background": "light"
          }
        }
      ]
    },
    {
      "cell_type": "code",
      "metadata": {
        "colab": {
          "base_uri": "https://localhost:8080/",
          "height": 282
        },
        "id": "iJq9OXp1GMpY",
        "outputId": "b9b113d4-63b0-4c14-dba7-0dd3dd7b66a7"
      },
      "source": [
        "x= np.linspace(0,10,50)\n",
        "y= np.power(x,0.5)\n",
        "plt.plot(x,y)"
      ],
      "execution_count": 34,
      "outputs": [
        {
          "output_type": "execute_result",
          "data": {
            "text/plain": [
              "[<matplotlib.lines.Line2D at 0x7f0ab7953860>]"
            ]
          },
          "metadata": {
            "tags": []
          },
          "execution_count": 34
        },
        {
          "output_type": "display_data",
          "data": {
            "image/png": "[encoded data removed]",
            "text/plain": [
              "<Figure size 432x288 with 1 Axes>"
            ]
          },
          "metadata": {
            "tags": [],
            "needs_background": "light"
          }
        }
      ]
    },
    {
      "cell_type": "code",
      "metadata": {
        "colab": {
          "base_uri": "https://localhost:8080/",
          "height": 282
        },
        "id": "V_zXdcTKGoNV",
        "outputId": "64589ce8-0ac9-4812-abcc-5e7d5f12a8c5"
      },
      "source": [
        "x= np.linspace(0,10,50)\n",
        "y= np.power(x,2,)\n",
        "plt.plot(x,y,'*')"
      ],
      "execution_count": 37,
      "outputs": [
        {
          "output_type": "execute_result",
          "data": {
            "text/plain": [
              "[<matplotlib.lines.Line2D at 0x7f0ab78a8978>]"
            ]
          },
          "metadata": {
            "tags": []
          },
          "execution_count": 37
        },
        {
          "output_type": "display_data",
          "data": {
            "image/png": "[encoded data removed]",
            "text/plain": [
              "<Figure size 432x288 with 1 Axes>"
            ]
          },
          "metadata": {
            "tags": [],
            "needs_background": "light"
          }
        }
      ]
    },
    {
      "cell_type": "code",
      "metadata": {
        "id": "hJkknNe-HHO1"
      },
      "source": [
        "uniform_data=np.random.rand(10,12)"
      ],
      "execution_count": 38,
      "outputs": []
    },
    {
      "cell_type": "code",
      "metadata": {
        "colab": {
          "base_uri": "https://localhost:8080/"
        },
        "id": "CGGKf7kiLqlt",
        "outputId": "9051a5e9-6cca-4bcd-be3a-eaea16b05533"
      },
      "source": [
        "print(uniform_data)"
      ],
      "execution_count": 39,
      "outputs": [
        {
          "output_type": "stream",
          "text": [
            "[[0.84315084 0.96490946 0.27767064 0.98437448 0.30349287 0.89181268\n",
            "  0.37563874 0.32656804 0.98082082 0.41768824 0.23530193 0.0961293 ]\n",
            " [0.71144668 0.09315621 0.5336687  0.50849732 0.61708101 0.260146\n",
            "  0.07157105 0.71028123 0.2894703  0.45932744 0.13210672 0.69595052]\n",
            " [0.05767053 0.22990736 0.69725907 0.9178978  0.64968753 0.81197777\n",
            "  0.90748947 0.34962293 0.0151584  0.38851469 0.90606766 0.54238521]\n",
            " [0.78125047 0.2615774  0.83809617 0.94580075 0.98794847 0.55274145\n",
            "  0.23875819 0.07267888 0.58085971 0.6497908  0.08909066 0.10380324]\n",
            " [0.53657384 0.89858485 0.93183651 0.97055443 0.50595258 0.70762853\n",
            "  0.78231816 0.89205439 0.59695811 0.7750621  0.21464487 0.05066891]\n",
            " [0.76523899 0.99006982 0.8023236  0.85917313 0.78780001 0.74763595\n",
            "  0.4487878  0.01219359 0.31447103 0.93598169 0.00700042 0.51324685]\n",
            " [0.60138608 0.54266911 0.96317103 0.19776106 0.14928707 0.73713103\n",
            "  0.89135524 0.62601483 0.6999613  0.47974742 0.71853421 0.4467012 ]\n",
            " [0.46687851 0.02695375 0.90471143 0.446062   0.44284104 0.85345341\n",
            "  0.832145   0.35223379 0.73168926 0.21007866 0.8367018  0.18113764]\n",
            " [0.39981842 0.20374261 0.01141471 0.59179952 0.19040487 0.05920871\n",
            "  0.60606106 0.14974567 0.50955103 0.90438861 0.58422291 0.75328266]\n",
            " [0.07598982 0.52824734 0.86565318 0.34525572 0.26928395 0.50330558\n",
            "  0.31643271 0.62922267 0.85883291 0.29944151 0.30615786 0.05113695]]\n"
          ],
          "name": "stdout"
        }
      ]
    },
    {
      "cell_type": "code",
      "metadata": {
        "id": "qbMeNlMkjWQt"
      },
      "source": [
        "import seaborn as sns"
      ],
      "execution_count": 41,
      "outputs": []
    },
    {
      "cell_type": "code",
      "metadata": {
        "colab": {
          "base_uri": "https://localhost:8080/",
          "height": 265
        },
        "id": "vUX6U6vTjjrj",
        "outputId": "593a8666-d103-4113-8103-dd4f0ae4f042"
      },
      "source": [
        "ax=sns.scatterplot(data=uniform_data)"
      ],
      "execution_count": 43,
      "outputs": [
        {
          "output_type": "display_data",
          "data": {
            "image/png": "[encoded data removed]",
            "text/plain": [
              "<Figure size 432x288 with 1 Axes>"
            ]
          },
          "metadata": {
            "tags": [],
            "needs_background": "light"
          }
        }
      ]
    },
    {
      "cell_type": "code",
      "metadata": {
        "colab": {
          "base_uri": "https://localhost:8080/"
        },
        "id": "-tTKG5y1oVul",
        "outputId": "cf4cd599-d9b4-4f99-9906-510f34d61f4a"
      },
      "source": [
        "!wget https://www.google.com/url?sa=i&url=https%3A%2F%2Fgithub.com%2FDebdeep-Goswami&psig=AOvVaw2nG1OCgIwz6h9jT0kTMgwj&ust=1606381280258000&source=images&cd=vfe&ved=0CAIQjRxqFwoTCMi9r96qne0CFQAAAAAdAAAAABAI"
      ],
      "execution_count": 44,
      "outputs": [
        {
          "output_type": "stream",
          "text": [
            "--2020-11-25 09:02:08--  https://www.google.com/url?sa=i\n",
            "Resolving www.google.com (www.google.com)... 108.177.119.105, 108.177.119.104, 108.177.119.103, ...\n",
            "Connecting to www.google.com (www.google.com)|108.177.119.105|:443... connected.\n",
            "HTTP request sent, awaiting response... 200 OK\n",
            "Length: unspecified [text/html]\n",
            "Saving to: ‘url?sa=i’\n",
            "\n",
            "\rurl?sa=i                [<=>                 ]       0  --.-KB/s               \rurl?sa=i                [ <=>                ]   1.38K  --.-KB/s    in 0s      \n",
            "\n",
            "2020-11-25 09:02:08 (22.4 MB/s) - ‘url?sa=i’ saved [1413]\n",
            "\n"
          ],
          "name": "stdout"
        }
      ]
    },
    {
      "cell_type": "code",
      "metadata": {
        "colab": {
          "base_uri": "https://localhost:8080/"
        },
        "id": "Kbh7WvXPo3fV",
        "outputId": "9991f35d-f15b-475b-bce8-06c6dcdbac93"
      },
      "source": [
        "!ls"
      ],
      "execution_count": 45,
      "outputs": [
        {
          "output_type": "stream",
          "text": [
            " sample_data  'url?sa=i'\n"
          ],
          "name": "stdout"
        }
      ]
    },
    {
      "cell_type": "code",
      "metadata": {
        "id": "89tblh18o5kq"
      },
      "source": [
        "!mv url?sa=i image.jpg"
      ],
      "execution_count": 46,
      "outputs": []
    },
    {
      "cell_type": "code",
      "metadata": {
        "colab": {
          "base_uri": "https://localhost:8080/"
        },
        "id": "VJABe5KlpK1j",
        "outputId": "9485e818-57a3-4fd0-b138-c8093c37c5f2"
      },
      "source": [
        "!ls"
      ],
      "execution_count": 47,
      "outputs": [
        {
          "output_type": "stream",
          "text": [
            "image.jpg  sample_data\n"
          ],
          "name": "stdout"
        }
      ]
    },
    {
      "cell_type": "code",
      "metadata": {
        "colab": {
          "base_uri": "https://localhost:8080/",
          "height": 369
        },
        "id": "klIg9vrspM7V",
        "outputId": "1cdcfe1e-9552-4118-926e-492b58502b9f"
      },
      "source": [
        "ax=sns.displot(data=uniform_data)"
      ],
      "execution_count": 51,
      "outputs": [
        {
          "output_type": "display_data",
          "data": {
            "image/png": "[encoded data removed]",
            "text/plain": [
              "<Figure size 408.75x360 with 1 Axes>"
            ]
          },
          "metadata": {
            "tags": [],
            "needs_background": "light"
          }
        }
      ]
    },
    {
      "cell_type": "code",
      "metadata": {
        "colab": {
          "base_uri": "https://localhost:8080/",
          "height": 265
        },
        "id": "0HXKZMT5pVqe",
        "outputId": "cae7f70c-2a9b-4d0a-c073-52a15d14651d"
      },
      "source": [
        "ax= sns.boxenplot(data=uniform_data)"
      ],
      "execution_count": 53,
      "outputs": [
        {
          "output_type": "display_data",
          "data": {
            "image/png": "[encoded data removed]",
            "text/plain": [
              "<Figure size 432x288 with 1 Axes>"
            ]
          },
          "metadata": {
            "tags": [],
            "needs_background": "light"
          }
        }
      ]
    },
    {
      "cell_type": "code",
      "metadata": {
        "colab": {
          "base_uri": "https://localhost:8080/",
          "height": 265
        },
        "id": "0rjIFeHuqe0E",
        "outputId": "b9230598-881d-4a60-ffae-fd6df6032dc6"
      },
      "source": [
        "ax=sns.heatmap(uniform_data)"
      ],
      "execution_count": 54,
      "outputs": [
        {
          "output_type": "display_data",
          "data": {
            "image/png": "[encoded data removed]",
            "text/plain": [
              "<Figure size 432x288 with 2 Axes>"
            ]
          },
          "metadata": {
            "tags": [],
            "needs_background": "light"
          }
        }
      ]
    },
    {
      "cell_type": "code",
      "metadata": {
        "id": "E51wH-dZrA9y"
      },
      "source": [
        ""
      ],
      "execution_count": null,
      "outputs": []
    }
  ]
}